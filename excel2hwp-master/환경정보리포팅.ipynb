{
 "cells": [
  {
   "cell_type": "code",
   "execution_count": 168,
   "metadata": {},
   "outputs": [],
   "source": [
    "import win32com.client as win32"
   ]
  },
  {
   "cell_type": "code",
   "execution_count": 169,
   "metadata": {},
   "outputs": [],
   "source": [
    "import pandas as pd"
   ]
  },
  {
   "cell_type": "markdown",
   "metadata": {},
   "source": [
    "# 엑셀파일 불러오기"
   ]
  },
  {
   "cell_type": "code",
   "execution_count": 170,
   "metadata": {},
   "outputs": [],
   "source": [
    "excel = pd.read_excel(\"환경정보.xlsx\")"
   ]
  },
  {
   "cell_type": "code",
   "execution_count": 171,
   "metadata": {},
   "outputs": [
    {
     "name": "stdout",
     "output_type": "stream",
     "text": [
      "   id    x   y  site_no   dem  slope  aspect  forest googlemap_id\n",
      "0   1  126  38        1  1198     74     344  forest           g1\n",
      "1   2  127  36        2   701     73     105    crop           g2\n",
      "2   3  127  37        3   631     41     358  stream           g3\n",
      "3   4  126  36        4  1329     49     158  forest           g4\n",
      "4   5  126  37        5   335     67     130    crop           g5\n"
     ]
    }
   ],
   "source": [
    "print(excel.head())"
   ]
  },
  {
   "cell_type": "markdown",
   "metadata": {},
   "source": [
    "# 한글 빈문서를 배경으로 불러오기"
   ]
  },
  {
   "cell_type": "code",
   "execution_count": 172,
   "metadata": {},
   "outputs": [],
   "source": [
    "hwp= win32.Dispatch(\"HWPFrame.HwpObject\")"
   ]
  },
  {
   "cell_type": "markdown",
   "metadata": {},
   "source": [
    "# 한글 자동보안승인 요청"
   ]
  },
  {
   "cell_type": "code",
   "execution_count": 173,
   "metadata": {},
   "outputs": [
    {
     "data": {
      "text/plain": [
       "True"
      ]
     },
     "execution_count": 173,
     "metadata": {},
     "output_type": "execute_result"
    }
   ],
   "source": [
    "hwp.RegisterModule(\"FilePathCheckDLL\",\"SecurityModule\")"
   ]
  },
  {
   "cell_type": "markdown",
   "metadata": {},
   "source": [
    "# 한글 파일 불러오기\n",
    "\n",
    "- 한글파일을 불러올때는 절대경로로 불러와야 오류가 나오지 않는다"
   ]
  },
  {
   "cell_type": "code",
   "execution_count": 174,
   "metadata": {},
   "outputs": [
    {
     "data": {
      "text/plain": [
       "True"
      ]
     },
     "execution_count": 174,
     "metadata": {},
     "output_type": "execute_result"
    }
   ],
   "source": [
    "hwp.Open(r\"C:\\ecosdm\\hwp_work\\환경정보리포팅.hwp\", None, None)"
   ]
  },
  {
   "cell_type": "code",
   "execution_count": 175,
   "metadata": {},
   "outputs": [
    {
     "data": {
      "text/plain": [
       "'site_no\\x02id\\x02x\\x02y\\x02dem\\x02slope\\x02aspect\\x02forest\\x02googlemap_id'"
      ]
     },
     "execution_count": 175,
     "metadata": {},
     "output_type": "execute_result"
    }
   ],
   "source": [
    "hwp.GetFieldList(0, None)"
   ]
  },
  {
   "cell_type": "code",
   "execution_count": 176,
   "metadata": {
    "scrolled": true
   },
   "outputs": [
    {
     "data": {
      "text/plain": [
       "'site_no{{0}}\\x02id{{0}}\\x02x{{0}}\\x02y{{0}}\\x02dem{{0}}\\x02slope{{0}}\\x02aspect{{0}}\\x02forest{{0}}\\x02googlemap_id{{0}}'"
      ]
     },
     "execution_count": 176,
     "metadata": {},
     "output_type": "execute_result"
    }
   ],
   "source": [
    "hwp.GetFieldList(1, None)"
   ]
  },
  {
   "cell_type": "code",
   "execution_count": 177,
   "metadata": {},
   "outputs": [],
   "source": [
    "field_list =[i for i in hwp.GetFieldList(0, None).split(\"\\02\")]"
   ]
  },
  {
   "cell_type": "code",
   "execution_count": 178,
   "metadata": {},
   "outputs": [
    {
     "data": {
      "text/plain": [
       "['site_no', 'id', 'x', 'y', 'dem', 'slope', 'aspect', 'forest', 'googlemap_id']"
      ]
     },
     "execution_count": 178,
     "metadata": {},
     "output_type": "execute_result"
    }
   ],
   "source": [
    "field_list"
   ]
  },
  {
   "cell_type": "code",
   "execution_count": 179,
   "metadata": {},
   "outputs": [],
   "source": [
    "hwp.Run(\"SelectAll\")"
   ]
  },
  {
   "cell_type": "code",
   "execution_count": 180,
   "metadata": {},
   "outputs": [],
   "source": [
    "hwp.Run(\"Copy\")"
   ]
  },
  {
   "cell_type": "code",
   "execution_count": 181,
   "metadata": {},
   "outputs": [],
   "source": [
    "# hwp.MovePos(3, None, None) #커서를 마지막 페이지로 이동"
   ]
  },
  {
   "cell_type": "code",
   "execution_count": 182,
   "metadata": {},
   "outputs": [
    {
     "data": {
      "text/html": [
       "<div>\n",
       "<style scoped>\n",
       "    .dataframe tbody tr th:only-of-type {\n",
       "        vertical-align: middle;\n",
       "    }\n",
       "\n",
       "    .dataframe tbody tr th {\n",
       "        vertical-align: top;\n",
       "    }\n",
       "\n",
       "    .dataframe thead th {\n",
       "        text-align: right;\n",
       "    }\n",
       "</style>\n",
       "<table border=\"1\" class=\"dataframe\">\n",
       "  <thead>\n",
       "    <tr style=\"text-align: right;\">\n",
       "      <th></th>\n",
       "      <th>id</th>\n",
       "      <th>x</th>\n",
       "      <th>y</th>\n",
       "      <th>site_no</th>\n",
       "      <th>dem</th>\n",
       "      <th>slope</th>\n",
       "      <th>aspect</th>\n",
       "      <th>forest</th>\n",
       "      <th>googlemap_id</th>\n",
       "    </tr>\n",
       "  </thead>\n",
       "  <tbody>\n",
       "    <tr>\n",
       "      <th>0</th>\n",
       "      <td>1</td>\n",
       "      <td>126</td>\n",
       "      <td>38</td>\n",
       "      <td>1</td>\n",
       "      <td>1198</td>\n",
       "      <td>74</td>\n",
       "      <td>344</td>\n",
       "      <td>forest</td>\n",
       "      <td>g1</td>\n",
       "    </tr>\n",
       "    <tr>\n",
       "      <th>1</th>\n",
       "      <td>2</td>\n",
       "      <td>127</td>\n",
       "      <td>36</td>\n",
       "      <td>2</td>\n",
       "      <td>701</td>\n",
       "      <td>73</td>\n",
       "      <td>105</td>\n",
       "      <td>crop</td>\n",
       "      <td>g2</td>\n",
       "    </tr>\n",
       "    <tr>\n",
       "      <th>2</th>\n",
       "      <td>3</td>\n",
       "      <td>127</td>\n",
       "      <td>37</td>\n",
       "      <td>3</td>\n",
       "      <td>631</td>\n",
       "      <td>41</td>\n",
       "      <td>358</td>\n",
       "      <td>stream</td>\n",
       "      <td>g3</td>\n",
       "    </tr>\n",
       "    <tr>\n",
       "      <th>3</th>\n",
       "      <td>4</td>\n",
       "      <td>126</td>\n",
       "      <td>36</td>\n",
       "      <td>4</td>\n",
       "      <td>1329</td>\n",
       "      <td>49</td>\n",
       "      <td>158</td>\n",
       "      <td>forest</td>\n",
       "      <td>g4</td>\n",
       "    </tr>\n",
       "    <tr>\n",
       "      <th>4</th>\n",
       "      <td>5</td>\n",
       "      <td>126</td>\n",
       "      <td>37</td>\n",
       "      <td>5</td>\n",
       "      <td>335</td>\n",
       "      <td>67</td>\n",
       "      <td>130</td>\n",
       "      <td>crop</td>\n",
       "      <td>g5</td>\n",
       "    </tr>\n",
       "    <tr>\n",
       "      <th>5</th>\n",
       "      <td>6</td>\n",
       "      <td>126</td>\n",
       "      <td>35</td>\n",
       "      <td>6</td>\n",
       "      <td>993</td>\n",
       "      <td>49</td>\n",
       "      <td>243</td>\n",
       "      <td>stream</td>\n",
       "      <td>g6</td>\n",
       "    </tr>\n",
       "    <tr>\n",
       "      <th>6</th>\n",
       "      <td>7</td>\n",
       "      <td>126</td>\n",
       "      <td>38</td>\n",
       "      <td>7</td>\n",
       "      <td>548</td>\n",
       "      <td>44</td>\n",
       "      <td>254</td>\n",
       "      <td>stream</td>\n",
       "      <td>g7</td>\n",
       "    </tr>\n",
       "    <tr>\n",
       "      <th>7</th>\n",
       "      <td>8</td>\n",
       "      <td>126</td>\n",
       "      <td>35</td>\n",
       "      <td>8</td>\n",
       "      <td>1385</td>\n",
       "      <td>64</td>\n",
       "      <td>89</td>\n",
       "      <td>urban</td>\n",
       "      <td>g8</td>\n",
       "    </tr>\n",
       "    <tr>\n",
       "      <th>8</th>\n",
       "      <td>9</td>\n",
       "      <td>127</td>\n",
       "      <td>36</td>\n",
       "      <td>9</td>\n",
       "      <td>119</td>\n",
       "      <td>18</td>\n",
       "      <td>321</td>\n",
       "      <td>stream</td>\n",
       "      <td>g9</td>\n",
       "    </tr>\n",
       "    <tr>\n",
       "      <th>9</th>\n",
       "      <td>10</td>\n",
       "      <td>127</td>\n",
       "      <td>36</td>\n",
       "      <td>10</td>\n",
       "      <td>1235</td>\n",
       "      <td>87</td>\n",
       "      <td>340</td>\n",
       "      <td>forest</td>\n",
       "      <td>g10</td>\n",
       "    </tr>\n",
       "    <tr>\n",
       "      <th>10</th>\n",
       "      <td>11</td>\n",
       "      <td>127</td>\n",
       "      <td>38</td>\n",
       "      <td>11</td>\n",
       "      <td>830</td>\n",
       "      <td>17</td>\n",
       "      <td>178</td>\n",
       "      <td>crop</td>\n",
       "      <td>g11</td>\n",
       "    </tr>\n",
       "    <tr>\n",
       "      <th>11</th>\n",
       "      <td>12</td>\n",
       "      <td>127</td>\n",
       "      <td>35</td>\n",
       "      <td>12</td>\n",
       "      <td>214</td>\n",
       "      <td>1</td>\n",
       "      <td>0</td>\n",
       "      <td>stream</td>\n",
       "      <td>g12</td>\n",
       "    </tr>\n",
       "    <tr>\n",
       "      <th>12</th>\n",
       "      <td>13</td>\n",
       "      <td>127</td>\n",
       "      <td>37</td>\n",
       "      <td>13</td>\n",
       "      <td>742</td>\n",
       "      <td>87</td>\n",
       "      <td>9</td>\n",
       "      <td>forest</td>\n",
       "      <td>g13</td>\n",
       "    </tr>\n",
       "    <tr>\n",
       "      <th>13</th>\n",
       "      <td>14</td>\n",
       "      <td>127</td>\n",
       "      <td>36</td>\n",
       "      <td>14</td>\n",
       "      <td>431</td>\n",
       "      <td>80</td>\n",
       "      <td>253</td>\n",
       "      <td>crop</td>\n",
       "      <td>g14</td>\n",
       "    </tr>\n",
       "    <tr>\n",
       "      <th>14</th>\n",
       "      <td>15</td>\n",
       "      <td>127</td>\n",
       "      <td>35</td>\n",
       "      <td>15</td>\n",
       "      <td>1024</td>\n",
       "      <td>77</td>\n",
       "      <td>16</td>\n",
       "      <td>stream</td>\n",
       "      <td>g15</td>\n",
       "    </tr>\n",
       "    <tr>\n",
       "      <th>15</th>\n",
       "      <td>16</td>\n",
       "      <td>126</td>\n",
       "      <td>37</td>\n",
       "      <td>16</td>\n",
       "      <td>387</td>\n",
       "      <td>70</td>\n",
       "      <td>156</td>\n",
       "      <td>forest</td>\n",
       "      <td>g16</td>\n",
       "    </tr>\n",
       "    <tr>\n",
       "      <th>16</th>\n",
       "      <td>17</td>\n",
       "      <td>126</td>\n",
       "      <td>35</td>\n",
       "      <td>17</td>\n",
       "      <td>889</td>\n",
       "      <td>54</td>\n",
       "      <td>92</td>\n",
       "      <td>crop</td>\n",
       "      <td>g17</td>\n",
       "    </tr>\n",
       "    <tr>\n",
       "      <th>17</th>\n",
       "      <td>18</td>\n",
       "      <td>126</td>\n",
       "      <td>36</td>\n",
       "      <td>18</td>\n",
       "      <td>1385</td>\n",
       "      <td>24</td>\n",
       "      <td>11</td>\n",
       "      <td>stream</td>\n",
       "      <td>g18</td>\n",
       "    </tr>\n",
       "    <tr>\n",
       "      <th>18</th>\n",
       "      <td>19</td>\n",
       "      <td>126</td>\n",
       "      <td>38</td>\n",
       "      <td>19</td>\n",
       "      <td>352</td>\n",
       "      <td>6</td>\n",
       "      <td>36</td>\n",
       "      <td>stream</td>\n",
       "      <td>g19</td>\n",
       "    </tr>\n",
       "  </tbody>\n",
       "</table>\n",
       "</div>"
      ],
      "text/plain": [
       "    id    x   y  site_no   dem  slope  aspect  forest googlemap_id\n",
       "0    1  126  38        1  1198     74     344  forest           g1\n",
       "1    2  127  36        2   701     73     105    crop           g2\n",
       "2    3  127  37        3   631     41     358  stream           g3\n",
       "3    4  126  36        4  1329     49     158  forest           g4\n",
       "4    5  126  37        5   335     67     130    crop           g5\n",
       "5    6  126  35        6   993     49     243  stream           g6\n",
       "6    7  126  38        7   548     44     254  stream           g7\n",
       "7    8  126  35        8  1385     64      89   urban           g8\n",
       "8    9  127  36        9   119     18     321  stream           g9\n",
       "9   10  127  36       10  1235     87     340  forest          g10\n",
       "10  11  127  38       11   830     17     178    crop          g11\n",
       "11  12  127  35       12   214      1       0  stream          g12\n",
       "12  13  127  37       13   742     87       9  forest          g13\n",
       "13  14  127  36       14   431     80     253    crop          g14\n",
       "14  15  127  35       15  1024     77      16  stream          g15\n",
       "15  16  126  37       16   387     70     156  forest          g16\n",
       "16  17  126  35       17   889     54      92    crop          g17\n",
       "17  18  126  36       18  1385     24      11  stream          g18\n",
       "18  19  126  38       19   352      6      36  stream          g19"
      ]
     },
     "execution_count": 182,
     "metadata": {},
     "output_type": "execute_result"
    }
   ],
   "source": [
    "excel"
   ]
  },
  {
   "cell_type": "code",
   "execution_count": 183,
   "metadata": {},
   "outputs": [
    {
     "data": {
      "text/plain": [
       "19"
      ]
     },
     "execution_count": 183,
     "metadata": {},
     "output_type": "execute_result"
    }
   ],
   "source": [
    "len(excel)"
   ]
  },
  {
   "cell_type": "code",
   "execution_count": 184,
   "metadata": {},
   "outputs": [],
   "source": [
    "for i in range(len(excel)):\n",
    "    hwp.Run(\"Paste\")\n",
    "    #hwp.MovePos(3, None, None)"
   ]
  },
  {
   "cell_type": "code",
   "execution_count": 185,
   "metadata": {},
   "outputs": [],
   "source": [
    "for page in range(len(excel)):\n",
    "    for field in field_list:\n",
    "        hwp.PutFieldText(f\"{field}{{{{{page}}}}}\", excel[field].iloc[page])"
   ]
  },
  {
   "cell_type": "code",
   "execution_count": 186,
   "metadata": {},
   "outputs": [
    {
     "data": {
      "text/plain": [
       "True"
      ]
     },
     "execution_count": 186,
     "metadata": {},
     "output_type": "execute_result"
    }
   ],
   "source": [
    "hwp.SaveAs(r\"c:\\ecosdm\\hwp_work\\results.hwp\", \"HWP\", \"HWP\")"
   ]
  },
  {
   "cell_type": "code",
   "execution_count": 187,
   "metadata": {},
   "outputs": [
    {
     "data": {
      "text/plain": [
       "True"
      ]
     },
     "execution_count": 187,
     "metadata": {},
     "output_type": "execute_result"
    }
   ],
   "source": [
    "hwp.Open(r\"C:\\ecosdm\\hwp_work\\results.hwp\", \"HWP\", \"HWP\")"
   ]
  },
  {
   "cell_type": "code",
   "execution_count": 167,
   "metadata": {},
   "outputs": [],
   "source": [
    "hwp.Quit()\n",
    "hwp=None"
   ]
  }
 ],
 "metadata": {
  "kernelspec": {
   "display_name": "Python 3",
   "language": "python",
   "name": "python3"
  },
  "language_info": {
   "codemirror_mode": {
    "name": "ipython",
    "version": 3
   },
   "file_extension": ".py",
   "mimetype": "text/x-python",
   "name": "python",
   "nbconvert_exporter": "python",
   "pygments_lexer": "ipython3",
   "version": "3.7.3"
  }
 },
 "nbformat": 4,
 "nbformat_minor": 2
}
