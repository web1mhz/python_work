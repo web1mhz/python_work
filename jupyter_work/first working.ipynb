{
 "cells": [
  {
   "cell_type": "markdown",
   "metadata": {},
   "source": [
    "# 분석모듈 불러오기\n",
    "* 배열형태의 수치해석를 위한 numpy\n",
    "* 엑셀형태의 자료처리를 위한 pandas"
   ]
  },
  {
   "cell_type": "code",
   "execution_count": 1,
   "metadata": {},
   "outputs": [],
   "source": [
    "import numpy as np\n",
    "import pandas as pd"
   ]
  },
  {
   "cell_type": "markdown",
   "metadata": {},
   "source": [
    "# 넘파이와 판다스 실습"
   ]
  },
  {
   "cell_type": "markdown",
   "metadata": {},
   "source": [
    "## 인덱스로 날짜를 생성하여 지정"
   ]
  },
  {
   "cell_type": "code",
   "execution_count": 3,
   "metadata": {},
   "outputs": [
    {
     "data": {
      "text/plain": [
       "DatetimeIndex(['2019-03-01', '2019-03-02', '2019-03-03', '2019-03-04',\n",
       "               '2019-03-05', '2019-03-06'],\n",
       "              dtype='datetime64[ns]', freq='D')"
      ]
     },
     "execution_count": 3,
     "metadata": {},
     "output_type": "execute_result"
    }
   ],
   "source": [
    "dates = pd.date_range(\"20190301\", periods=6)\n",
    "dates"
   ]
  },
  {
   "cell_type": "markdown",
   "metadata": {},
   "source": [
    "### 데이터플레임을 생성하는데 넘파이를 이용해서 \n",
    "* 무작위 숫자로 values를 생성한 후 index는 날짜로 columms 이름은 ABCD"
   ]
  },
  {
   "cell_type": "code",
   "execution_count": 8,
   "metadata": {},
   "outputs": [
    {
     "data": {
      "text/html": [
       "<div>\n",
       "<style scoped>\n",
       "    .dataframe tbody tr th:only-of-type {\n",
       "        vertical-align: middle;\n",
       "    }\n",
       "\n",
       "    .dataframe tbody tr th {\n",
       "        vertical-align: top;\n",
       "    }\n",
       "\n",
       "    .dataframe thead th {\n",
       "        text-align: right;\n",
       "    }\n",
       "</style>\n",
       "<table border=\"1\" class=\"dataframe\">\n",
       "  <thead>\n",
       "    <tr style=\"text-align: right;\">\n",
       "      <th></th>\n",
       "      <th>A</th>\n",
       "      <th>B</th>\n",
       "      <th>C</th>\n",
       "      <th>D</th>\n",
       "    </tr>\n",
       "  </thead>\n",
       "  <tbody>\n",
       "    <tr>\n",
       "      <th>2019-03-01</th>\n",
       "      <td>-0.420402</td>\n",
       "      <td>1.345383</td>\n",
       "      <td>-2.105803</td>\n",
       "      <td>-0.055290</td>\n",
       "    </tr>\n",
       "    <tr>\n",
       "      <th>2019-03-02</th>\n",
       "      <td>0.313935</td>\n",
       "      <td>1.490609</td>\n",
       "      <td>-0.323631</td>\n",
       "      <td>1.133779</td>\n",
       "    </tr>\n",
       "    <tr>\n",
       "      <th>2019-03-03</th>\n",
       "      <td>1.037485</td>\n",
       "      <td>0.350257</td>\n",
       "      <td>2.887839</td>\n",
       "      <td>-0.471060</td>\n",
       "    </tr>\n",
       "    <tr>\n",
       "      <th>2019-03-04</th>\n",
       "      <td>-1.076875</td>\n",
       "      <td>-0.367652</td>\n",
       "      <td>1.043537</td>\n",
       "      <td>1.305916</td>\n",
       "    </tr>\n",
       "    <tr>\n",
       "      <th>2019-03-05</th>\n",
       "      <td>0.873650</td>\n",
       "      <td>-0.439170</td>\n",
       "      <td>1.093370</td>\n",
       "      <td>-0.545296</td>\n",
       "    </tr>\n",
       "  </tbody>\n",
       "</table>\n",
       "</div>"
      ],
      "text/plain": [
       "                   A         B         C         D\n",
       "2019-03-01 -0.420402  1.345383 -2.105803 -0.055290\n",
       "2019-03-02  0.313935  1.490609 -0.323631  1.133779\n",
       "2019-03-03  1.037485  0.350257  2.887839 -0.471060\n",
       "2019-03-04 -1.076875 -0.367652  1.043537  1.305916\n",
       "2019-03-05  0.873650 -0.439170  1.093370 -0.545296"
      ]
     },
     "execution_count": 8,
     "metadata": {},
     "output_type": "execute_result"
    }
   ],
   "source": [
    "df = pd.DataFrame(np.random.randn(6,4), index=dates, columns=[\"A\", \"B\", \"C\", \"D\"])\n",
    "df.head()"
   ]
  },
  {
   "cell_type": "code",
   "execution_count": 13,
   "metadata": {},
   "outputs": [
    {
     "data": {
      "text/plain": [
       "pandas.core.frame.DataFrame"
      ]
     },
     "execution_count": 13,
     "metadata": {},
     "output_type": "execute_result"
    }
   ],
   "source": [
    "type(df)"
   ]
  },
  {
   "cell_type": "code",
   "execution_count": 14,
   "metadata": {},
   "outputs": [
    {
     "data": {
      "text/plain": [
       "Index(['A', 'B', 'C', 'D'], dtype='object')"
      ]
     },
     "execution_count": 14,
     "metadata": {},
     "output_type": "execute_result"
    }
   ],
   "source": [
    "df.columns"
   ]
  },
  {
   "cell_type": "code",
   "execution_count": 15,
   "metadata": {},
   "outputs": [
    {
     "data": {
      "text/plain": [
       "DatetimeIndex(['2019-03-01', '2019-03-02', '2019-03-03', '2019-03-04',\n",
       "               '2019-03-05', '2019-03-06'],\n",
       "              dtype='datetime64[ns]', freq='D')"
      ]
     },
     "execution_count": 15,
     "metadata": {},
     "output_type": "execute_result"
    }
   ],
   "source": [
    "df.index"
   ]
  },
  {
   "cell_type": "code",
   "execution_count": 16,
   "metadata": {},
   "outputs": [
    {
     "data": {
      "text/plain": [
       "array([[-0.42040233,  1.34538281, -2.10580268, -0.05529011],\n",
       "       [ 0.31393499,  1.4906088 , -0.3236307 ,  1.1337791 ],\n",
       "       [ 1.03748517,  0.35025739,  2.88783923, -0.47105989],\n",
       "       [-1.07687506, -0.36765226,  1.04353692,  1.30591559],\n",
       "       [ 0.87365009, -0.43917017,  1.09336993, -0.54529576],\n",
       "       [-0.16268973,  1.12072439,  0.03642279, -0.63869143]])"
      ]
     },
     "execution_count": 16,
     "metadata": {},
     "output_type": "execute_result"
    }
   ],
   "source": [
    "df.values"
   ]
  },
  {
   "cell_type": "code",
   "execution_count": 17,
   "metadata": {},
   "outputs": [
    {
     "data": {
      "text/html": [
       "<div>\n",
       "<style scoped>\n",
       "    .dataframe tbody tr th:only-of-type {\n",
       "        vertical-align: middle;\n",
       "    }\n",
       "\n",
       "    .dataframe tbody tr th {\n",
       "        vertical-align: top;\n",
       "    }\n",
       "\n",
       "    .dataframe thead th {\n",
       "        text-align: right;\n",
       "    }\n",
       "</style>\n",
       "<table border=\"1\" class=\"dataframe\">\n",
       "  <thead>\n",
       "    <tr style=\"text-align: right;\">\n",
       "      <th></th>\n",
       "      <th>A</th>\n",
       "      <th>B</th>\n",
       "      <th>C</th>\n",
       "      <th>D</th>\n",
       "    </tr>\n",
       "  </thead>\n",
       "  <tbody>\n",
       "    <tr>\n",
       "      <th>count</th>\n",
       "      <td>6.000000</td>\n",
       "      <td>6.000000</td>\n",
       "      <td>6.000000</td>\n",
       "      <td>6.000000</td>\n",
       "    </tr>\n",
       "    <tr>\n",
       "      <th>mean</th>\n",
       "      <td>0.094184</td>\n",
       "      <td>0.583358</td>\n",
       "      <td>0.438623</td>\n",
       "      <td>0.121560</td>\n",
       "    </tr>\n",
       "    <tr>\n",
       "      <th>std</th>\n",
       "      <td>0.805958</td>\n",
       "      <td>0.859868</td>\n",
       "      <td>1.673928</td>\n",
       "      <td>0.875493</td>\n",
       "    </tr>\n",
       "    <tr>\n",
       "      <th>min</th>\n",
       "      <td>-1.076875</td>\n",
       "      <td>-0.439170</td>\n",
       "      <td>-2.105803</td>\n",
       "      <td>-0.638691</td>\n",
       "    </tr>\n",
       "    <tr>\n",
       "      <th>25%</th>\n",
       "      <td>-0.355974</td>\n",
       "      <td>-0.188175</td>\n",
       "      <td>-0.233617</td>\n",
       "      <td>-0.526737</td>\n",
       "    </tr>\n",
       "    <tr>\n",
       "      <th>50%</th>\n",
       "      <td>0.075623</td>\n",
       "      <td>0.735491</td>\n",
       "      <td>0.539980</td>\n",
       "      <td>-0.263175</td>\n",
       "    </tr>\n",
       "    <tr>\n",
       "      <th>75%</th>\n",
       "      <td>0.733721</td>\n",
       "      <td>1.289218</td>\n",
       "      <td>1.080912</td>\n",
       "      <td>0.836512</td>\n",
       "    </tr>\n",
       "    <tr>\n",
       "      <th>max</th>\n",
       "      <td>1.037485</td>\n",
       "      <td>1.490609</td>\n",
       "      <td>2.887839</td>\n",
       "      <td>1.305916</td>\n",
       "    </tr>\n",
       "  </tbody>\n",
       "</table>\n",
       "</div>"
      ],
      "text/plain": [
       "              A         B         C         D\n",
       "count  6.000000  6.000000  6.000000  6.000000\n",
       "mean   0.094184  0.583358  0.438623  0.121560\n",
       "std    0.805958  0.859868  1.673928  0.875493\n",
       "min   -1.076875 -0.439170 -2.105803 -0.638691\n",
       "25%   -0.355974 -0.188175 -0.233617 -0.526737\n",
       "50%    0.075623  0.735491  0.539980 -0.263175\n",
       "75%    0.733721  1.289218  1.080912  0.836512\n",
       "max    1.037485  1.490609  2.887839  1.305916"
      ]
     },
     "execution_count": 17,
     "metadata": {},
     "output_type": "execute_result"
    }
   ],
   "source": [
    "df.describe()"
   ]
  },
  {
   "cell_type": "code",
   "execution_count": 18,
   "metadata": {},
   "outputs": [
    {
     "data": {
      "text/html": [
       "<div>\n",
       "<style scoped>\n",
       "    .dataframe tbody tr th:only-of-type {\n",
       "        vertical-align: middle;\n",
       "    }\n",
       "\n",
       "    .dataframe tbody tr th {\n",
       "        vertical-align: top;\n",
       "    }\n",
       "\n",
       "    .dataframe thead th {\n",
       "        text-align: right;\n",
       "    }\n",
       "</style>\n",
       "<table border=\"1\" class=\"dataframe\">\n",
       "  <thead>\n",
       "    <tr style=\"text-align: right;\">\n",
       "      <th></th>\n",
       "      <th>A</th>\n",
       "      <th>B</th>\n",
       "      <th>C</th>\n",
       "      <th>D</th>\n",
       "    </tr>\n",
       "  </thead>\n",
       "  <tbody>\n",
       "    <tr>\n",
       "      <th>2019-03-04</th>\n",
       "      <td>-1.076875</td>\n",
       "      <td>-0.367652</td>\n",
       "      <td>1.043537</td>\n",
       "      <td>1.305916</td>\n",
       "    </tr>\n",
       "    <tr>\n",
       "      <th>2019-03-01</th>\n",
       "      <td>-0.420402</td>\n",
       "      <td>1.345383</td>\n",
       "      <td>-2.105803</td>\n",
       "      <td>-0.055290</td>\n",
       "    </tr>\n",
       "    <tr>\n",
       "      <th>2019-03-06</th>\n",
       "      <td>-0.162690</td>\n",
       "      <td>1.120724</td>\n",
       "      <td>0.036423</td>\n",
       "      <td>-0.638691</td>\n",
       "    </tr>\n",
       "    <tr>\n",
       "      <th>2019-03-02</th>\n",
       "      <td>0.313935</td>\n",
       "      <td>1.490609</td>\n",
       "      <td>-0.323631</td>\n",
       "      <td>1.133779</td>\n",
       "    </tr>\n",
       "    <tr>\n",
       "      <th>2019-03-05</th>\n",
       "      <td>0.873650</td>\n",
       "      <td>-0.439170</td>\n",
       "      <td>1.093370</td>\n",
       "      <td>-0.545296</td>\n",
       "    </tr>\n",
       "    <tr>\n",
       "      <th>2019-03-03</th>\n",
       "      <td>1.037485</td>\n",
       "      <td>0.350257</td>\n",
       "      <td>2.887839</td>\n",
       "      <td>-0.471060</td>\n",
       "    </tr>\n",
       "  </tbody>\n",
       "</table>\n",
       "</div>"
      ],
      "text/plain": [
       "                   A         B         C         D\n",
       "2019-03-04 -1.076875 -0.367652  1.043537  1.305916\n",
       "2019-03-01 -0.420402  1.345383 -2.105803 -0.055290\n",
       "2019-03-06 -0.162690  1.120724  0.036423 -0.638691\n",
       "2019-03-02  0.313935  1.490609 -0.323631  1.133779\n",
       "2019-03-05  0.873650 -0.439170  1.093370 -0.545296\n",
       "2019-03-03  1.037485  0.350257  2.887839 -0.471060"
      ]
     },
     "execution_count": 18,
     "metadata": {},
     "output_type": "execute_result"
    }
   ],
   "source": [
    "df.sort_values(by=\"A\")"
   ]
  },
  {
   "cell_type": "code",
   "execution_count": 20,
   "metadata": {},
   "outputs": [
    {
     "data": {
      "text/html": [
       "<div>\n",
       "<style scoped>\n",
       "    .dataframe tbody tr th:only-of-type {\n",
       "        vertical-align: middle;\n",
       "    }\n",
       "\n",
       "    .dataframe tbody tr th {\n",
       "        vertical-align: top;\n",
       "    }\n",
       "\n",
       "    .dataframe thead th {\n",
       "        text-align: right;\n",
       "    }\n",
       "</style>\n",
       "<table border=\"1\" class=\"dataframe\">\n",
       "  <thead>\n",
       "    <tr style=\"text-align: right;\">\n",
       "      <th></th>\n",
       "      <th>A</th>\n",
       "      <th>B</th>\n",
       "      <th>C</th>\n",
       "      <th>D</th>\n",
       "    </tr>\n",
       "  </thead>\n",
       "  <tbody>\n",
       "    <tr>\n",
       "      <th>2019-03-03</th>\n",
       "      <td>1.037485</td>\n",
       "      <td>0.350257</td>\n",
       "      <td>2.887839</td>\n",
       "      <td>-0.471060</td>\n",
       "    </tr>\n",
       "    <tr>\n",
       "      <th>2019-03-05</th>\n",
       "      <td>0.873650</td>\n",
       "      <td>-0.439170</td>\n",
       "      <td>1.093370</td>\n",
       "      <td>-0.545296</td>\n",
       "    </tr>\n",
       "    <tr>\n",
       "      <th>2019-03-02</th>\n",
       "      <td>0.313935</td>\n",
       "      <td>1.490609</td>\n",
       "      <td>-0.323631</td>\n",
       "      <td>1.133779</td>\n",
       "    </tr>\n",
       "    <tr>\n",
       "      <th>2019-03-06</th>\n",
       "      <td>-0.162690</td>\n",
       "      <td>1.120724</td>\n",
       "      <td>0.036423</td>\n",
       "      <td>-0.638691</td>\n",
       "    </tr>\n",
       "    <tr>\n",
       "      <th>2019-03-01</th>\n",
       "      <td>-0.420402</td>\n",
       "      <td>1.345383</td>\n",
       "      <td>-2.105803</td>\n",
       "      <td>-0.055290</td>\n",
       "    </tr>\n",
       "    <tr>\n",
       "      <th>2019-03-04</th>\n",
       "      <td>-1.076875</td>\n",
       "      <td>-0.367652</td>\n",
       "      <td>1.043537</td>\n",
       "      <td>1.305916</td>\n",
       "    </tr>\n",
       "  </tbody>\n",
       "</table>\n",
       "</div>"
      ],
      "text/plain": [
       "                   A         B         C         D\n",
       "2019-03-03  1.037485  0.350257  2.887839 -0.471060\n",
       "2019-03-05  0.873650 -0.439170  1.093370 -0.545296\n",
       "2019-03-02  0.313935  1.490609 -0.323631  1.133779\n",
       "2019-03-06 -0.162690  1.120724  0.036423 -0.638691\n",
       "2019-03-01 -0.420402  1.345383 -2.105803 -0.055290\n",
       "2019-03-04 -1.076875 -0.367652  1.043537  1.305916"
      ]
     },
     "execution_count": 20,
     "metadata": {},
     "output_type": "execute_result"
    }
   ],
   "source": [
    "df.sort_values(by=\"A\", ascending =False)"
   ]
  },
  {
   "cell_type": "code",
   "execution_count": 21,
   "metadata": {},
   "outputs": [
    {
     "data": {
      "text/plain": [
       "2019-03-01   -0.420402\n",
       "2019-03-02    0.313935\n",
       "2019-03-03    1.037485\n",
       "2019-03-04   -1.076875\n",
       "2019-03-05    0.873650\n",
       "2019-03-06   -0.162690\n",
       "Freq: D, Name: A, dtype: float64"
      ]
     },
     "execution_count": 21,
     "metadata": {},
     "output_type": "execute_result"
    }
   ],
   "source": [
    "df[\"A\"]"
   ]
  },
  {
   "cell_type": "code",
   "execution_count": 28,
   "metadata": {},
   "outputs": [
    {
     "data": {
      "text/html": [
       "<div>\n",
       "<style scoped>\n",
       "    .dataframe tbody tr th:only-of-type {\n",
       "        vertical-align: middle;\n",
       "    }\n",
       "\n",
       "    .dataframe tbody tr th {\n",
       "        vertical-align: top;\n",
       "    }\n",
       "\n",
       "    .dataframe thead th {\n",
       "        text-align: right;\n",
       "    }\n",
       "</style>\n",
       "<table border=\"1\" class=\"dataframe\">\n",
       "  <thead>\n",
       "    <tr style=\"text-align: right;\">\n",
       "      <th></th>\n",
       "      <th>A</th>\n",
       "      <th>B</th>\n",
       "      <th>C</th>\n",
       "      <th>D</th>\n",
       "    </tr>\n",
       "  </thead>\n",
       "  <tbody>\n",
       "    <tr>\n",
       "      <th>2019-03-01</th>\n",
       "      <td>-0.420402</td>\n",
       "      <td>1.345383</td>\n",
       "      <td>-2.105803</td>\n",
       "      <td>-0.055290</td>\n",
       "    </tr>\n",
       "    <tr>\n",
       "      <th>2019-03-02</th>\n",
       "      <td>0.313935</td>\n",
       "      <td>1.490609</td>\n",
       "      <td>-0.323631</td>\n",
       "      <td>1.133779</td>\n",
       "    </tr>\n",
       "    <tr>\n",
       "      <th>2019-03-03</th>\n",
       "      <td>1.037485</td>\n",
       "      <td>0.350257</td>\n",
       "      <td>2.887839</td>\n",
       "      <td>-0.471060</td>\n",
       "    </tr>\n",
       "  </tbody>\n",
       "</table>\n",
       "</div>"
      ],
      "text/plain": [
       "                   A         B         C         D\n",
       "2019-03-01 -0.420402  1.345383 -2.105803 -0.055290\n",
       "2019-03-02  0.313935  1.490609 -0.323631  1.133779\n",
       "2019-03-03  1.037485  0.350257  2.887839 -0.471060"
      ]
     },
     "execution_count": 28,
     "metadata": {},
     "output_type": "execute_result"
    }
   ],
   "source": [
    "df[0:3]"
   ]
  },
  {
   "cell_type": "code",
   "execution_count": 29,
   "metadata": {},
   "outputs": [
    {
     "data": {
      "text/plain": [
       "A   -0.420402\n",
       "B    1.345383\n",
       "C   -2.105803\n",
       "D   -0.055290\n",
       "Name: 2019-03-01 00:00:00, dtype: float64"
      ]
     },
     "execution_count": 29,
     "metadata": {},
     "output_type": "execute_result"
    }
   ],
   "source": [
    "df.loc['2019-03-01']"
   ]
  },
  {
   "cell_type": "code",
   "execution_count": 34,
   "metadata": {},
   "outputs": [
    {
     "data": {
      "text/html": [
       "<div>\n",
       "<style scoped>\n",
       "    .dataframe tbody tr th:only-of-type {\n",
       "        vertical-align: middle;\n",
       "    }\n",
       "\n",
       "    .dataframe tbody tr th {\n",
       "        vertical-align: top;\n",
       "    }\n",
       "\n",
       "    .dataframe thead th {\n",
       "        text-align: right;\n",
       "    }\n",
       "</style>\n",
       "<table border=\"1\" class=\"dataframe\">\n",
       "  <thead>\n",
       "    <tr style=\"text-align: right;\">\n",
       "      <th></th>\n",
       "      <th>A</th>\n",
       "    </tr>\n",
       "  </thead>\n",
       "  <tbody>\n",
       "    <tr>\n",
       "      <th>2019-03-01</th>\n",
       "      <td>-0.420402</td>\n",
       "    </tr>\n",
       "    <tr>\n",
       "      <th>2019-03-02</th>\n",
       "      <td>0.313935</td>\n",
       "    </tr>\n",
       "    <tr>\n",
       "      <th>2019-03-03</th>\n",
       "      <td>1.037485</td>\n",
       "    </tr>\n",
       "    <tr>\n",
       "      <th>2019-03-04</th>\n",
       "      <td>-1.076875</td>\n",
       "    </tr>\n",
       "  </tbody>\n",
       "</table>\n",
       "</div>"
      ],
      "text/plain": [
       "                   A\n",
       "2019-03-01 -0.420402\n",
       "2019-03-02  0.313935\n",
       "2019-03-03  1.037485\n",
       "2019-03-04 -1.076875"
      ]
     },
     "execution_count": 34,
     "metadata": {},
     "output_type": "execute_result"
    }
   ],
   "source": [
    "df.loc[\"2019-03-01\":\"2019-03-04\", ['A']]"
   ]
  },
  {
   "cell_type": "code",
   "execution_count": 37,
   "metadata": {},
   "outputs": [
    {
     "data": {
      "text/html": [
       "<div>\n",
       "<style scoped>\n",
       "    .dataframe tbody tr th:only-of-type {\n",
       "        vertical-align: middle;\n",
       "    }\n",
       "\n",
       "    .dataframe tbody tr th {\n",
       "        vertical-align: top;\n",
       "    }\n",
       "\n",
       "    .dataframe thead th {\n",
       "        text-align: right;\n",
       "    }\n",
       "</style>\n",
       "<table border=\"1\" class=\"dataframe\">\n",
       "  <thead>\n",
       "    <tr style=\"text-align: right;\">\n",
       "      <th></th>\n",
       "      <th>A</th>\n",
       "      <th>B</th>\n",
       "    </tr>\n",
       "  </thead>\n",
       "  <tbody>\n",
       "    <tr>\n",
       "      <th>2019-03-01</th>\n",
       "      <td>-0.420402</td>\n",
       "      <td>1.345383</td>\n",
       "    </tr>\n",
       "    <tr>\n",
       "      <th>2019-03-02</th>\n",
       "      <td>0.313935</td>\n",
       "      <td>1.490609</td>\n",
       "    </tr>\n",
       "    <tr>\n",
       "      <th>2019-03-03</th>\n",
       "      <td>1.037485</td>\n",
       "      <td>0.350257</td>\n",
       "    </tr>\n",
       "    <tr>\n",
       "      <th>2019-03-04</th>\n",
       "      <td>-1.076875</td>\n",
       "      <td>-0.367652</td>\n",
       "    </tr>\n",
       "    <tr>\n",
       "      <th>2019-03-05</th>\n",
       "      <td>0.873650</td>\n",
       "      <td>-0.439170</td>\n",
       "    </tr>\n",
       "    <tr>\n",
       "      <th>2019-03-06</th>\n",
       "      <td>-0.162690</td>\n",
       "      <td>1.120724</td>\n",
       "    </tr>\n",
       "  </tbody>\n",
       "</table>\n",
       "</div>"
      ],
      "text/plain": [
       "                   A         B\n",
       "2019-03-01 -0.420402  1.345383\n",
       "2019-03-02  0.313935  1.490609\n",
       "2019-03-03  1.037485  0.350257\n",
       "2019-03-04 -1.076875 -0.367652\n",
       "2019-03-05  0.873650 -0.439170\n",
       "2019-03-06 -0.162690  1.120724"
      ]
     },
     "execution_count": 37,
     "metadata": {},
     "output_type": "execute_result"
    }
   ],
   "source": [
    "df.loc[:, ['A','B']]"
   ]
  },
  {
   "cell_type": "code",
   "execution_count": 40,
   "metadata": {},
   "outputs": [
    {
     "data": {
      "text/html": [
       "<div>\n",
       "<style scoped>\n",
       "    .dataframe tbody tr th:only-of-type {\n",
       "        vertical-align: middle;\n",
       "    }\n",
       "\n",
       "    .dataframe tbody tr th {\n",
       "        vertical-align: top;\n",
       "    }\n",
       "\n",
       "    .dataframe thead th {\n",
       "        text-align: right;\n",
       "    }\n",
       "</style>\n",
       "<table border=\"1\" class=\"dataframe\">\n",
       "  <thead>\n",
       "    <tr style=\"text-align: right;\">\n",
       "      <th></th>\n",
       "      <th>A</th>\n",
       "      <th>B</th>\n",
       "    </tr>\n",
       "  </thead>\n",
       "  <tbody>\n",
       "    <tr>\n",
       "      <th>2019-03-02</th>\n",
       "      <td>0.313935</td>\n",
       "      <td>1.490609</td>\n",
       "    </tr>\n",
       "    <tr>\n",
       "      <th>2019-03-03</th>\n",
       "      <td>1.037485</td>\n",
       "      <td>0.350257</td>\n",
       "    </tr>\n",
       "  </tbody>\n",
       "</table>\n",
       "</div>"
      ],
      "text/plain": [
       "                   A         B\n",
       "2019-03-02  0.313935  1.490609\n",
       "2019-03-03  1.037485  0.350257"
      ]
     },
     "execution_count": 40,
     "metadata": {},
     "output_type": "execute_result"
    }
   ],
   "source": [
    "df.iloc[1:3, 0:2]"
   ]
  },
  {
   "cell_type": "code",
   "execution_count": 41,
   "metadata": {},
   "outputs": [
    {
     "data": {
      "text/html": [
       "<div>\n",
       "<style scoped>\n",
       "    .dataframe tbody tr th:only-of-type {\n",
       "        vertical-align: middle;\n",
       "    }\n",
       "\n",
       "    .dataframe tbody tr th {\n",
       "        vertical-align: top;\n",
       "    }\n",
       "\n",
       "    .dataframe thead th {\n",
       "        text-align: right;\n",
       "    }\n",
       "</style>\n",
       "<table border=\"1\" class=\"dataframe\">\n",
       "  <thead>\n",
       "    <tr style=\"text-align: right;\">\n",
       "      <th></th>\n",
       "      <th>A</th>\n",
       "      <th>B</th>\n",
       "    </tr>\n",
       "  </thead>\n",
       "  <tbody>\n",
       "    <tr>\n",
       "      <th>2019-03-02</th>\n",
       "      <td>0.313935</td>\n",
       "      <td>1.490609</td>\n",
       "    </tr>\n",
       "    <tr>\n",
       "      <th>2019-03-04</th>\n",
       "      <td>-1.076875</td>\n",
       "      <td>-0.367652</td>\n",
       "    </tr>\n",
       "    <tr>\n",
       "      <th>2019-03-06</th>\n",
       "      <td>-0.162690</td>\n",
       "      <td>1.120724</td>\n",
       "    </tr>\n",
       "  </tbody>\n",
       "</table>\n",
       "</div>"
      ],
      "text/plain": [
       "                   A         B\n",
       "2019-03-02  0.313935  1.490609\n",
       "2019-03-04 -1.076875 -0.367652\n",
       "2019-03-06 -0.162690  1.120724"
      ]
     },
     "execution_count": 41,
     "metadata": {},
     "output_type": "execute_result"
    }
   ],
   "source": [
    "df.iloc[[1,3,5], 0:2]"
   ]
  },
  {
   "cell_type": "code",
   "execution_count": 43,
   "metadata": {},
   "outputs": [
    {
     "data": {
      "text/html": [
       "<div>\n",
       "<style scoped>\n",
       "    .dataframe tbody tr th:only-of-type {\n",
       "        vertical-align: middle;\n",
       "    }\n",
       "\n",
       "    .dataframe tbody tr th {\n",
       "        vertical-align: top;\n",
       "    }\n",
       "\n",
       "    .dataframe thead th {\n",
       "        text-align: right;\n",
       "    }\n",
       "</style>\n",
       "<table border=\"1\" class=\"dataframe\">\n",
       "  <thead>\n",
       "    <tr style=\"text-align: right;\">\n",
       "      <th></th>\n",
       "      <th>A</th>\n",
       "      <th>B</th>\n",
       "      <th>C</th>\n",
       "      <th>D</th>\n",
       "    </tr>\n",
       "  </thead>\n",
       "  <tbody>\n",
       "    <tr>\n",
       "      <th>2019-03-02</th>\n",
       "      <td>0.313935</td>\n",
       "      <td>1.490609</td>\n",
       "      <td>-0.323631</td>\n",
       "      <td>1.133779</td>\n",
       "    </tr>\n",
       "    <tr>\n",
       "      <th>2019-03-03</th>\n",
       "      <td>1.037485</td>\n",
       "      <td>0.350257</td>\n",
       "      <td>2.887839</td>\n",
       "      <td>-0.471060</td>\n",
       "    </tr>\n",
       "    <tr>\n",
       "      <th>2019-03-05</th>\n",
       "      <td>0.873650</td>\n",
       "      <td>-0.439170</td>\n",
       "      <td>1.093370</td>\n",
       "      <td>-0.545296</td>\n",
       "    </tr>\n",
       "  </tbody>\n",
       "</table>\n",
       "</div>"
      ],
      "text/plain": [
       "                   A         B         C         D\n",
       "2019-03-02  0.313935  1.490609 -0.323631  1.133779\n",
       "2019-03-03  1.037485  0.350257  2.887839 -0.471060\n",
       "2019-03-05  0.873650 -0.439170  1.093370 -0.545296"
      ]
     },
     "execution_count": 43,
     "metadata": {},
     "output_type": "execute_result"
    }
   ],
   "source": [
    "df[df['A']>0]"
   ]
  },
  {
   "cell_type": "code",
   "execution_count": 44,
   "metadata": {},
   "outputs": [
    {
     "data": {
      "text/html": [
       "<div>\n",
       "<style scoped>\n",
       "    .dataframe tbody tr th:only-of-type {\n",
       "        vertical-align: middle;\n",
       "    }\n",
       "\n",
       "    .dataframe tbody tr th {\n",
       "        vertical-align: top;\n",
       "    }\n",
       "\n",
       "    .dataframe thead th {\n",
       "        text-align: right;\n",
       "    }\n",
       "</style>\n",
       "<table border=\"1\" class=\"dataframe\">\n",
       "  <thead>\n",
       "    <tr style=\"text-align: right;\">\n",
       "      <th></th>\n",
       "      <th>A</th>\n",
       "      <th>B</th>\n",
       "      <th>C</th>\n",
       "      <th>D</th>\n",
       "    </tr>\n",
       "  </thead>\n",
       "  <tbody>\n",
       "    <tr>\n",
       "      <th>2019-03-01</th>\n",
       "      <td>False</td>\n",
       "      <td>True</td>\n",
       "      <td>False</td>\n",
       "      <td>False</td>\n",
       "    </tr>\n",
       "    <tr>\n",
       "      <th>2019-03-02</th>\n",
       "      <td>True</td>\n",
       "      <td>True</td>\n",
       "      <td>False</td>\n",
       "      <td>True</td>\n",
       "    </tr>\n",
       "    <tr>\n",
       "      <th>2019-03-03</th>\n",
       "      <td>True</td>\n",
       "      <td>True</td>\n",
       "      <td>True</td>\n",
       "      <td>False</td>\n",
       "    </tr>\n",
       "    <tr>\n",
       "      <th>2019-03-04</th>\n",
       "      <td>False</td>\n",
       "      <td>False</td>\n",
       "      <td>True</td>\n",
       "      <td>True</td>\n",
       "    </tr>\n",
       "    <tr>\n",
       "      <th>2019-03-05</th>\n",
       "      <td>True</td>\n",
       "      <td>False</td>\n",
       "      <td>True</td>\n",
       "      <td>False</td>\n",
       "    </tr>\n",
       "    <tr>\n",
       "      <th>2019-03-06</th>\n",
       "      <td>False</td>\n",
       "      <td>True</td>\n",
       "      <td>True</td>\n",
       "      <td>False</td>\n",
       "    </tr>\n",
       "  </tbody>\n",
       "</table>\n",
       "</div>"
      ],
      "text/plain": [
       "                A      B      C      D\n",
       "2019-03-01  False   True  False  False\n",
       "2019-03-02   True   True  False   True\n",
       "2019-03-03   True   True   True  False\n",
       "2019-03-04  False  False   True   True\n",
       "2019-03-05   True  False   True  False\n",
       "2019-03-06  False   True   True  False"
      ]
     },
     "execution_count": 44,
     "metadata": {},
     "output_type": "execute_result"
    }
   ],
   "source": [
    "df>0"
   ]
  },
  {
   "cell_type": "code",
   "execution_count": 45,
   "metadata": {},
   "outputs": [
    {
     "data": {
      "text/html": [
       "<div>\n",
       "<style scoped>\n",
       "    .dataframe tbody tr th:only-of-type {\n",
       "        vertical-align: middle;\n",
       "    }\n",
       "\n",
       "    .dataframe tbody tr th {\n",
       "        vertical-align: top;\n",
       "    }\n",
       "\n",
       "    .dataframe thead th {\n",
       "        text-align: right;\n",
       "    }\n",
       "</style>\n",
       "<table border=\"1\" class=\"dataframe\">\n",
       "  <thead>\n",
       "    <tr style=\"text-align: right;\">\n",
       "      <th></th>\n",
       "      <th>A</th>\n",
       "      <th>B</th>\n",
       "      <th>C</th>\n",
       "      <th>D</th>\n",
       "    </tr>\n",
       "  </thead>\n",
       "  <tbody>\n",
       "    <tr>\n",
       "      <th>2019-03-01</th>\n",
       "      <td>NaN</td>\n",
       "      <td>1.345383</td>\n",
       "      <td>NaN</td>\n",
       "      <td>NaN</td>\n",
       "    </tr>\n",
       "    <tr>\n",
       "      <th>2019-03-02</th>\n",
       "      <td>0.313935</td>\n",
       "      <td>1.490609</td>\n",
       "      <td>NaN</td>\n",
       "      <td>1.133779</td>\n",
       "    </tr>\n",
       "    <tr>\n",
       "      <th>2019-03-03</th>\n",
       "      <td>1.037485</td>\n",
       "      <td>0.350257</td>\n",
       "      <td>2.887839</td>\n",
       "      <td>NaN</td>\n",
       "    </tr>\n",
       "    <tr>\n",
       "      <th>2019-03-04</th>\n",
       "      <td>NaN</td>\n",
       "      <td>NaN</td>\n",
       "      <td>1.043537</td>\n",
       "      <td>1.305916</td>\n",
       "    </tr>\n",
       "    <tr>\n",
       "      <th>2019-03-05</th>\n",
       "      <td>0.873650</td>\n",
       "      <td>NaN</td>\n",
       "      <td>1.093370</td>\n",
       "      <td>NaN</td>\n",
       "    </tr>\n",
       "    <tr>\n",
       "      <th>2019-03-06</th>\n",
       "      <td>NaN</td>\n",
       "      <td>1.120724</td>\n",
       "      <td>0.036423</td>\n",
       "      <td>NaN</td>\n",
       "    </tr>\n",
       "  </tbody>\n",
       "</table>\n",
       "</div>"
      ],
      "text/plain": [
       "                   A         B         C         D\n",
       "2019-03-01       NaN  1.345383       NaN       NaN\n",
       "2019-03-02  0.313935  1.490609       NaN  1.133779\n",
       "2019-03-03  1.037485  0.350257  2.887839       NaN\n",
       "2019-03-04       NaN       NaN  1.043537  1.305916\n",
       "2019-03-05  0.873650       NaN  1.093370       NaN\n",
       "2019-03-06       NaN  1.120724  0.036423       NaN"
      ]
     },
     "execution_count": 45,
     "metadata": {},
     "output_type": "execute_result"
    }
   ],
   "source": [
    "df[df>0]"
   ]
  },
  {
   "cell_type": "markdown",
   "metadata": {},
   "source": [
    "## 칼럼이름 변경"
   ]
  },
  {
   "cell_type": "code",
   "execution_count": 55,
   "metadata": {},
   "outputs": [
    {
     "data": {
      "text/html": [
       "<div>\n",
       "<style scoped>\n",
       "    .dataframe tbody tr th:only-of-type {\n",
       "        vertical-align: middle;\n",
       "    }\n",
       "\n",
       "    .dataframe tbody tr th {\n",
       "        vertical-align: top;\n",
       "    }\n",
       "\n",
       "    .dataframe thead th {\n",
       "        text-align: right;\n",
       "    }\n",
       "</style>\n",
       "<table border=\"1\" class=\"dataframe\">\n",
       "  <thead>\n",
       "    <tr style=\"text-align: right;\">\n",
       "      <th></th>\n",
       "      <th>A</th>\n",
       "      <th>C</th>\n",
       "      <th>D</th>\n",
       "      <th>E</th>\n",
       "    </tr>\n",
       "  </thead>\n",
       "  <tbody>\n",
       "    <tr>\n",
       "      <th>2019-03-01</th>\n",
       "      <td>-0.420402</td>\n",
       "      <td>-2.105803</td>\n",
       "      <td>-0.055290</td>\n",
       "      <td>NaN</td>\n",
       "    </tr>\n",
       "    <tr>\n",
       "      <th>2019-03-02</th>\n",
       "      <td>0.313935</td>\n",
       "      <td>-0.323631</td>\n",
       "      <td>1.133779</td>\n",
       "      <td>NaN</td>\n",
       "    </tr>\n",
       "    <tr>\n",
       "      <th>2019-03-03</th>\n",
       "      <td>1.037485</td>\n",
       "      <td>2.887839</td>\n",
       "      <td>-0.471060</td>\n",
       "      <td>NaN</td>\n",
       "    </tr>\n",
       "    <tr>\n",
       "      <th>2019-03-04</th>\n",
       "      <td>-1.076875</td>\n",
       "      <td>1.043537</td>\n",
       "      <td>1.305916</td>\n",
       "      <td>NaN</td>\n",
       "    </tr>\n",
       "    <tr>\n",
       "      <th>2019-03-05</th>\n",
       "      <td>0.873650</td>\n",
       "      <td>1.093370</td>\n",
       "      <td>-0.545296</td>\n",
       "      <td>NaN</td>\n",
       "    </tr>\n",
       "    <tr>\n",
       "      <th>2019-03-06</th>\n",
       "      <td>-0.162690</td>\n",
       "      <td>0.036423</td>\n",
       "      <td>-0.638691</td>\n",
       "      <td>NaN</td>\n",
       "    </tr>\n",
       "  </tbody>\n",
       "</table>\n",
       "</div>"
      ],
      "text/plain": [
       "                   A         C         D   E\n",
       "2019-03-01 -0.420402 -2.105803 -0.055290 NaN\n",
       "2019-03-02  0.313935 -0.323631  1.133779 NaN\n",
       "2019-03-03  1.037485  2.887839 -0.471060 NaN\n",
       "2019-03-04 -1.076875  1.043537  1.305916 NaN\n",
       "2019-03-05  0.873650  1.093370 -0.545296 NaN\n",
       "2019-03-06 -0.162690  0.036423 -0.638691 NaN"
      ]
     },
     "execution_count": 55,
     "metadata": {},
     "output_type": "execute_result"
    }
   ],
   "source": [
    "df2=pd.DataFrame(df, columns=[\"A\", \"C\", \"D\", \"E\"])\n",
    "df2                              "
   ]
  },
  {
   "cell_type": "markdown",
   "metadata": {},
   "source": [
    "# 새로운 칼럼 생성"
   ]
  },
  {
   "cell_type": "code",
   "execution_count": 57,
   "metadata": {},
   "outputs": [
    {
     "data": {
      "text/html": [
       "<div>\n",
       "<style scoped>\n",
       "    .dataframe tbody tr th:only-of-type {\n",
       "        vertical-align: middle;\n",
       "    }\n",
       "\n",
       "    .dataframe tbody tr th {\n",
       "        vertical-align: top;\n",
       "    }\n",
       "\n",
       "    .dataframe thead th {\n",
       "        text-align: right;\n",
       "    }\n",
       "</style>\n",
       "<table border=\"1\" class=\"dataframe\">\n",
       "  <thead>\n",
       "    <tr style=\"text-align: right;\">\n",
       "      <th></th>\n",
       "      <th>A</th>\n",
       "      <th>B</th>\n",
       "      <th>C</th>\n",
       "      <th>D</th>\n",
       "      <th>E</th>\n",
       "    </tr>\n",
       "  </thead>\n",
       "  <tbody>\n",
       "    <tr>\n",
       "      <th>2019-03-01</th>\n",
       "      <td>-0.420402</td>\n",
       "      <td>1.345383</td>\n",
       "      <td>-2.105803</td>\n",
       "      <td>-0.055290</td>\n",
       "      <td>NaN</td>\n",
       "    </tr>\n",
       "    <tr>\n",
       "      <th>2019-03-02</th>\n",
       "      <td>0.313935</td>\n",
       "      <td>1.490609</td>\n",
       "      <td>-0.323631</td>\n",
       "      <td>1.133779</td>\n",
       "      <td>NaN</td>\n",
       "    </tr>\n",
       "    <tr>\n",
       "      <th>2019-03-03</th>\n",
       "      <td>1.037485</td>\n",
       "      <td>0.350257</td>\n",
       "      <td>2.887839</td>\n",
       "      <td>-0.471060</td>\n",
       "      <td>NaN</td>\n",
       "    </tr>\n",
       "    <tr>\n",
       "      <th>2019-03-04</th>\n",
       "      <td>-1.076875</td>\n",
       "      <td>-0.367652</td>\n",
       "      <td>1.043537</td>\n",
       "      <td>1.305916</td>\n",
       "      <td>NaN</td>\n",
       "    </tr>\n",
       "    <tr>\n",
       "      <th>2019-03-05</th>\n",
       "      <td>0.873650</td>\n",
       "      <td>-0.439170</td>\n",
       "      <td>1.093370</td>\n",
       "      <td>-0.545296</td>\n",
       "      <td>NaN</td>\n",
       "    </tr>\n",
       "    <tr>\n",
       "      <th>2019-03-06</th>\n",
       "      <td>-0.162690</td>\n",
       "      <td>1.120724</td>\n",
       "      <td>0.036423</td>\n",
       "      <td>-0.638691</td>\n",
       "      <td>NaN</td>\n",
       "    </tr>\n",
       "  </tbody>\n",
       "</table>\n",
       "</div>"
      ],
      "text/plain": [
       "                   A         B         C         D   E\n",
       "2019-03-01 -0.420402  1.345383 -2.105803 -0.055290 NaN\n",
       "2019-03-02  0.313935  1.490609 -0.323631  1.133779 NaN\n",
       "2019-03-03  1.037485  0.350257  2.887839 -0.471060 NaN\n",
       "2019-03-04 -1.076875 -0.367652  1.043537  1.305916 NaN\n",
       "2019-03-05  0.873650 -0.439170  1.093370 -0.545296 NaN\n",
       "2019-03-06 -0.162690  1.120724  0.036423 -0.638691 NaN"
      ]
     },
     "execution_count": 57,
     "metadata": {},
     "output_type": "execute_result"
    }
   ],
   "source": [
    "df[\"E\"] = np.nan\n",
    "df"
   ]
  },
  {
   "cell_type": "code",
   "execution_count": 58,
   "metadata": {},
   "outputs": [
    {
     "data": {
      "text/html": [
       "<div>\n",
       "<style scoped>\n",
       "    .dataframe tbody tr th:only-of-type {\n",
       "        vertical-align: middle;\n",
       "    }\n",
       "\n",
       "    .dataframe tbody tr th {\n",
       "        vertical-align: top;\n",
       "    }\n",
       "\n",
       "    .dataframe thead th {\n",
       "        text-align: right;\n",
       "    }\n",
       "</style>\n",
       "<table border=\"1\" class=\"dataframe\">\n",
       "  <thead>\n",
       "    <tr style=\"text-align: right;\">\n",
       "      <th></th>\n",
       "      <th>A</th>\n",
       "      <th>B</th>\n",
       "      <th>C</th>\n",
       "      <th>D</th>\n",
       "      <th>E</th>\n",
       "    </tr>\n",
       "  </thead>\n",
       "  <tbody>\n",
       "    <tr>\n",
       "      <th>2019-03-01</th>\n",
       "      <td>-0.420402</td>\n",
       "      <td>1.345383</td>\n",
       "      <td>-2.105803</td>\n",
       "      <td>-0.055290</td>\n",
       "      <td>2.0</td>\n",
       "    </tr>\n",
       "    <tr>\n",
       "      <th>2019-03-02</th>\n",
       "      <td>0.313935</td>\n",
       "      <td>1.490609</td>\n",
       "      <td>-0.323631</td>\n",
       "      <td>1.133779</td>\n",
       "      <td>NaN</td>\n",
       "    </tr>\n",
       "    <tr>\n",
       "      <th>2019-03-03</th>\n",
       "      <td>1.037485</td>\n",
       "      <td>0.350257</td>\n",
       "      <td>2.887839</td>\n",
       "      <td>-0.471060</td>\n",
       "      <td>NaN</td>\n",
       "    </tr>\n",
       "    <tr>\n",
       "      <th>2019-03-04</th>\n",
       "      <td>-1.076875</td>\n",
       "      <td>-0.367652</td>\n",
       "      <td>1.043537</td>\n",
       "      <td>1.305916</td>\n",
       "      <td>NaN</td>\n",
       "    </tr>\n",
       "    <tr>\n",
       "      <th>2019-03-05</th>\n",
       "      <td>0.873650</td>\n",
       "      <td>-0.439170</td>\n",
       "      <td>1.093370</td>\n",
       "      <td>-0.545296</td>\n",
       "      <td>NaN</td>\n",
       "    </tr>\n",
       "    <tr>\n",
       "      <th>2019-03-06</th>\n",
       "      <td>-0.162690</td>\n",
       "      <td>1.120724</td>\n",
       "      <td>0.036423</td>\n",
       "      <td>-0.638691</td>\n",
       "      <td>NaN</td>\n",
       "    </tr>\n",
       "  </tbody>\n",
       "</table>\n",
       "</div>"
      ],
      "text/plain": [
       "                   A         B         C         D    E\n",
       "2019-03-01 -0.420402  1.345383 -2.105803 -0.055290  2.0\n",
       "2019-03-02  0.313935  1.490609 -0.323631  1.133779  NaN\n",
       "2019-03-03  1.037485  0.350257  2.887839 -0.471060  NaN\n",
       "2019-03-04 -1.076875 -0.367652  1.043537  1.305916  NaN\n",
       "2019-03-05  0.873650 -0.439170  1.093370 -0.545296  NaN\n",
       "2019-03-06 -0.162690  1.120724  0.036423 -0.638691  NaN"
      ]
     },
     "execution_count": 58,
     "metadata": {},
     "output_type": "execute_result"
    }
   ],
   "source": [
    "df.loc['2019-03-01', ['E']] = 2\n",
    "df"
   ]
  },
  {
   "cell_type": "code",
   "execution_count": 61,
   "metadata": {},
   "outputs": [
    {
     "data": {
      "text/html": [
       "<div>\n",
       "<style scoped>\n",
       "    .dataframe tbody tr th:only-of-type {\n",
       "        vertical-align: middle;\n",
       "    }\n",
       "\n",
       "    .dataframe tbody tr th {\n",
       "        vertical-align: top;\n",
       "    }\n",
       "\n",
       "    .dataframe thead th {\n",
       "        text-align: right;\n",
       "    }\n",
       "</style>\n",
       "<table border=\"1\" class=\"dataframe\">\n",
       "  <thead>\n",
       "    <tr style=\"text-align: right;\">\n",
       "      <th></th>\n",
       "      <th>A</th>\n",
       "      <th>B</th>\n",
       "      <th>C</th>\n",
       "      <th>D</th>\n",
       "      <th>E</th>\n",
       "      <th>F</th>\n",
       "    </tr>\n",
       "  </thead>\n",
       "  <tbody>\n",
       "    <tr>\n",
       "      <th>2019-03-01</th>\n",
       "      <td>-0.420402</td>\n",
       "      <td>1.345383</td>\n",
       "      <td>-2.105803</td>\n",
       "      <td>-0.055290</td>\n",
       "      <td>2.0</td>\n",
       "      <td>0.924980</td>\n",
       "    </tr>\n",
       "    <tr>\n",
       "      <th>2019-03-02</th>\n",
       "      <td>0.313935</td>\n",
       "      <td>1.490609</td>\n",
       "      <td>-0.323631</td>\n",
       "      <td>1.133779</td>\n",
       "      <td>NaN</td>\n",
       "      <td>1.804544</td>\n",
       "    </tr>\n",
       "    <tr>\n",
       "      <th>2019-03-03</th>\n",
       "      <td>1.037485</td>\n",
       "      <td>0.350257</td>\n",
       "      <td>2.887839</td>\n",
       "      <td>-0.471060</td>\n",
       "      <td>NaN</td>\n",
       "      <td>1.387743</td>\n",
       "    </tr>\n",
       "    <tr>\n",
       "      <th>2019-03-04</th>\n",
       "      <td>-1.076875</td>\n",
       "      <td>-0.367652</td>\n",
       "      <td>1.043537</td>\n",
       "      <td>1.305916</td>\n",
       "      <td>NaN</td>\n",
       "      <td>-1.444527</td>\n",
       "    </tr>\n",
       "    <tr>\n",
       "      <th>2019-03-05</th>\n",
       "      <td>0.873650</td>\n",
       "      <td>-0.439170</td>\n",
       "      <td>1.093370</td>\n",
       "      <td>-0.545296</td>\n",
       "      <td>NaN</td>\n",
       "      <td>0.434480</td>\n",
       "    </tr>\n",
       "    <tr>\n",
       "      <th>2019-03-06</th>\n",
       "      <td>-0.162690</td>\n",
       "      <td>1.120724</td>\n",
       "      <td>0.036423</td>\n",
       "      <td>-0.638691</td>\n",
       "      <td>NaN</td>\n",
       "      <td>0.958035</td>\n",
       "    </tr>\n",
       "  </tbody>\n",
       "</table>\n",
       "</div>"
      ],
      "text/plain": [
       "                   A         B         C         D    E         F\n",
       "2019-03-01 -0.420402  1.345383 -2.105803 -0.055290  2.0  0.924980\n",
       "2019-03-02  0.313935  1.490609 -0.323631  1.133779  NaN  1.804544\n",
       "2019-03-03  1.037485  0.350257  2.887839 -0.471060  NaN  1.387743\n",
       "2019-03-04 -1.076875 -0.367652  1.043537  1.305916  NaN -1.444527\n",
       "2019-03-05  0.873650 -0.439170  1.093370 -0.545296  NaN  0.434480\n",
       "2019-03-06 -0.162690  1.120724  0.036423 -0.638691  NaN  0.958035"
      ]
     },
     "execution_count": 61,
     "metadata": {},
     "output_type": "execute_result"
    }
   ],
   "source": [
    "df['F']= df['A']+df['B']\n",
    "df"
   ]
  },
  {
   "cell_type": "code",
   "execution_count": 46,
   "metadata": {},
   "outputs": [
    {
     "name": "stdout",
     "output_type": "stream",
     "text": [
      "Collecting xlrd\n",
      "  Downloading https://files.pythonhosted.org/packages/b0/16/63576a1a001752e34bf8ea62e367997530dc553b689356b9879339cf45a4/xlrd-1.2.0-py2.py3-none-any.whl (103kB)\n",
      "Installing collected packages: xlrd\n",
      "Successfully installed xlrd-1.2.0\n"
     ]
    }
   ],
   "source": [
    "!pip install xlrd"
   ]
  },
  {
   "cell_type": "code",
   "execution_count": 47,
   "metadata": {},
   "outputs": [
    {
     "name": "stdout",
     "output_type": "stream",
     "text": [
      "Package            Version  \n",
      "------------------ ---------\n",
      "attrs              19.1.0   \n",
      "backcall           0.1.0    \n",
      "bleach             3.1.0    \n",
      "certifi            2019.6.16\n",
      "colorama           0.4.1    \n",
      "decorator          4.4.0    \n",
      "defusedxml         0.6.0    \n",
      "entrypoints        0.3      \n",
      "ipykernel          5.1.2    \n",
      "ipython            7.7.0    \n",
      "ipython-genutils   0.2.0    \n",
      "ipywidgets         7.5.1    \n",
      "jedi               0.15.1   \n",
      "Jinja2             2.10.1   \n",
      "jsonschema         3.0.2    \n",
      "jupyter            1.0.0    \n",
      "jupyter-client     5.3.1    \n",
      "jupyter-console    6.0.0    \n",
      "jupyter-core       4.5.0    \n",
      "MarkupSafe         1.1.1    \n",
      "mistune            0.8.4    \n",
      "nbconvert          5.6.0    \n",
      "nbformat           4.4.0    \n",
      "notebook           6.0.0    \n",
      "numpy              1.17.0   \n",
      "pandas             0.25.0   \n",
      "pandocfilters      1.4.2    \n",
      "parso              0.5.1    \n",
      "pickleshare        0.7.5    \n",
      "pip                19.2.2   \n",
      "prometheus-client  0.7.1    \n",
      "prompt-toolkit     2.0.9    \n",
      "Pygments           2.4.2    \n",
      "pyrsistent         0.15.4   \n",
      "python-dateutil    2.8.0    \n",
      "pytz               2019.2   \n",
      "pywinpty           0.5.5    \n",
      "pyzmq              18.1.0   \n",
      "qtconsole          4.5.3    \n",
      "Send2Trash         1.5.0    \n",
      "setuptools         41.0.1   \n",
      "six                1.12.0   \n",
      "terminado          0.8.2    \n",
      "testpath           0.4.2    \n",
      "tornado            6.0.3    \n",
      "traitlets          4.3.2    \n",
      "wcwidth            0.1.7    \n",
      "webencodings       0.5.1    \n",
      "wheel              0.33.4   \n",
      "widgetsnbextension 3.5.1    \n",
      "wincertstore       0.2      \n",
      "xlrd               1.2.0    \n",
      "Note: you may need to restart the kernel to use updated packages.\n"
     ]
    }
   ],
   "source": [
    "pip list"
   ]
  },
  {
   "cell_type": "code",
   "execution_count": 49,
   "metadata": {},
   "outputs": [
    {
     "name": "stdout",
     "output_type": "stream",
     "text": [
      " E 드라이브의 볼륨에는 이름이 없습니다.\n",
      " 볼륨 일련 번호: 023E-1ACD\n",
      "\n",
      " E:\\python_work 디렉터리\n",
      "\n",
      "2019-08-19  오후 02:48    <DIR>          .\n",
      "2019-08-19  오후 02:48    <DIR>          ..\n",
      "2019-08-19  오후 02:38    <DIR>          .ipynb_checkpoints\n",
      "2018-10-30  오후 02:11    <DIR>          chromedriver_win32\n",
      "2018-10-30  오후 02:11         3,614,625 chromedriver_win32.zip\n",
      "2019-08-19  오후 02:48            33,082 first working.ipynb\n",
      "2018-10-30  오후 02:12    <DIR>          test\n",
      "               2개 파일           3,647,707 바이트\n",
      "               5개 디렉터리  512,974,893,056 바이트 남음\n"
     ]
    }
   ],
   "source": [
    "ls"
   ]
  },
  {
   "cell_type": "code",
   "execution_count": 50,
   "metadata": {},
   "outputs": [],
   "source": [
    "mkdir data"
   ]
  },
  {
   "cell_type": "code",
   "execution_count": 51,
   "metadata": {},
   "outputs": [
    {
     "name": "stdout",
     "output_type": "stream",
     "text": [
      " E 드라이브의 볼륨에는 이름이 없습니다.\n",
      " 볼륨 일련 번호: 023E-1ACD\n",
      "\n",
      " E:\\python_work 디렉터리\n",
      "\n",
      "2019-08-19  오후 02:50    <DIR>          .\n",
      "2019-08-19  오후 02:50    <DIR>          ..\n",
      "2019-08-19  오후 02:38    <DIR>          .ipynb_checkpoints\n",
      "2018-10-30  오후 02:11    <DIR>          chromedriver_win32\n",
      "2018-10-30  오후 02:11         3,614,625 chromedriver_win32.zip\n",
      "2019-08-19  오후 02:50    <DIR>          data\n",
      "2019-08-19  오후 02:50            38,678 first working.ipynb\n",
      "2018-10-30  오후 02:12    <DIR>          test\n",
      "               2개 파일           3,653,303 바이트\n",
      "               6개 디렉터리  512,974,888,960 바이트 남음\n"
     ]
    }
   ],
   "source": [
    "ls"
   ]
  },
  {
   "cell_type": "markdown",
   "metadata": {},
   "source": [
    "# 엑셀파일 불러오기"
   ]
  },
  {
   "cell_type": "code",
   "execution_count": 73,
   "metadata": {},
   "outputs": [
    {
     "data": {
      "text/html": [
       "<div>\n",
       "<style scoped>\n",
       "    .dataframe tbody tr th:only-of-type {\n",
       "        vertical-align: middle;\n",
       "    }\n",
       "\n",
       "    .dataframe tbody tr th {\n",
       "        vertical-align: top;\n",
       "    }\n",
       "\n",
       "    .dataframe thead th {\n",
       "        text-align: right;\n",
       "    }\n",
       "</style>\n",
       "<table border=\"1\" class=\"dataframe\">\n",
       "  <thead>\n",
       "    <tr style=\"text-align: right;\">\n",
       "      <th></th>\n",
       "      <th>스트레스</th>\n",
       "      <th>스트레스남학생</th>\n",
       "      <th>스트레스여학생</th>\n",
       "      <th>우울감경험률</th>\n",
       "      <th>우울남학생</th>\n",
       "      <th>우울여학생</th>\n",
       "      <th>자살생각율</th>\n",
       "      <th>자살남학생</th>\n",
       "      <th>자살여학생</th>\n",
       "    </tr>\n",
       "  </thead>\n",
       "  <tbody>\n",
       "    <tr>\n",
       "      <th>0</th>\n",
       "      <td>42.7</td>\n",
       "      <td>34.5</td>\n",
       "      <td>51.5</td>\n",
       "      <td>29.6</td>\n",
       "      <td>24.2</td>\n",
       "      <td>35.4</td>\n",
       "      <td>15.4</td>\n",
       "      <td>11.8</td>\n",
       "      <td>19.2</td>\n",
       "    </tr>\n",
       "  </tbody>\n",
       "</table>\n",
       "</div>"
      ],
      "text/plain": [
       "   스트레스  스트레스남학생  스트레스여학생  우울감경험률  우울남학생  우울여학생  자살생각율  자살남학생  자살여학생\n",
       "0  42.7     34.5     51.5    29.6   24.2   35.4   15.4   11.8   19.2"
      ]
     },
     "execution_count": 73,
     "metadata": {},
     "output_type": "execute_result"
    }
   ],
   "source": [
    "\n",
    "col_names=[\"스트레스\", \"스트레스남학생\", \"스트레스여학생\", \"우울감경험률\", \n",
    "           \"우울남학생\", \"우울여학생\",\"자살생각율\",\"자살남학생\", \"자살여학생\"]\n",
    "raw_data=pd.read_excel(\"./data/teenage_mental.xls\", header=1,usecols=\"c:k\", names=col_names)\n",
    "raw_data"
   ]
  },
  {
   "cell_type": "code",
   "execution_count": 92,
   "metadata": {},
   "outputs": [],
   "source": [
    "raw_data[1]=np.nan"
   ]
  },
  {
   "cell_type": "code",
   "execution_count": 98,
   "metadata": {},
   "outputs": [
    {
     "data": {
      "text/plain": [
       "0   NaN\n",
       "Name: 1, dtype: float64"
      ]
     },
     "execution_count": 98,
     "metadata": {},
     "output_type": "execute_result"
    }
   ],
   "source": [
    "raw_data[1]"
   ]
  },
  {
   "cell_type": "code",
   "execution_count": 107,
   "metadata": {},
   "outputs": [],
   "source": [
    "raw_data.loc[1]=100-raw_data.loc[0]"
   ]
  },
  {
   "cell_type": "code",
   "execution_count": 108,
   "metadata": {},
   "outputs": [
    {
     "data": {
      "text/html": [
       "<div>\n",
       "<style scoped>\n",
       "    .dataframe tbody tr th:only-of-type {\n",
       "        vertical-align: middle;\n",
       "    }\n",
       "\n",
       "    .dataframe tbody tr th {\n",
       "        vertical-align: top;\n",
       "    }\n",
       "\n",
       "    .dataframe thead th {\n",
       "        text-align: right;\n",
       "    }\n",
       "</style>\n",
       "<table border=\"1\" class=\"dataframe\">\n",
       "  <thead>\n",
       "    <tr style=\"text-align: right;\">\n",
       "      <th></th>\n",
       "      <th>스트레스</th>\n",
       "      <th>스트레스남학생</th>\n",
       "      <th>스트레스여학생</th>\n",
       "      <th>우울감경험률</th>\n",
       "      <th>우울남학생</th>\n",
       "      <th>우울여학생</th>\n",
       "      <th>자살생각율</th>\n",
       "      <th>자살남학생</th>\n",
       "      <th>자살여학생</th>\n",
       "      <th>1</th>\n",
       "    </tr>\n",
       "  </thead>\n",
       "  <tbody>\n",
       "    <tr>\n",
       "      <th>0</th>\n",
       "      <td>42.7</td>\n",
       "      <td>34.5</td>\n",
       "      <td>51.5</td>\n",
       "      <td>29.6</td>\n",
       "      <td>24.2</td>\n",
       "      <td>35.4</td>\n",
       "      <td>15.4</td>\n",
       "      <td>11.8</td>\n",
       "      <td>19.2</td>\n",
       "      <td>NaN</td>\n",
       "    </tr>\n",
       "    <tr>\n",
       "      <th>1</th>\n",
       "      <td>57.3</td>\n",
       "      <td>65.5</td>\n",
       "      <td>48.5</td>\n",
       "      <td>70.4</td>\n",
       "      <td>75.8</td>\n",
       "      <td>64.6</td>\n",
       "      <td>84.6</td>\n",
       "      <td>88.2</td>\n",
       "      <td>80.8</td>\n",
       "      <td>NaN</td>\n",
       "    </tr>\n",
       "  </tbody>\n",
       "</table>\n",
       "</div>"
      ],
      "text/plain": [
       "   스트레스  스트레스남학생  스트레스여학생  우울감경험률  우울남학생  우울여학생  자살생각율  자살남학생  자살여학생   1\n",
       "0  42.7     34.5     51.5    29.6   24.2   35.4   15.4   11.8   19.2 NaN\n",
       "1  57.3     65.5     48.5    70.4   75.8   64.6   84.6   88.2   80.8 NaN"
      ]
     },
     "execution_count": 108,
     "metadata": {},
     "output_type": "execute_result"
    }
   ],
   "source": [
    "raw_data"
   ]
  },
  {
   "cell_type": "code",
   "execution_count": 112,
   "metadata": {},
   "outputs": [],
   "source": [
    "raw_data.drop(1, axis=1, inplace=True)"
   ]
  },
  {
   "cell_type": "code",
   "execution_count": 113,
   "metadata": {},
   "outputs": [
    {
     "data": {
      "text/html": [
       "<div>\n",
       "<style scoped>\n",
       "    .dataframe tbody tr th:only-of-type {\n",
       "        vertical-align: middle;\n",
       "    }\n",
       "\n",
       "    .dataframe tbody tr th {\n",
       "        vertical-align: top;\n",
       "    }\n",
       "\n",
       "    .dataframe thead th {\n",
       "        text-align: right;\n",
       "    }\n",
       "</style>\n",
       "<table border=\"1\" class=\"dataframe\">\n",
       "  <thead>\n",
       "    <tr style=\"text-align: right;\">\n",
       "      <th></th>\n",
       "      <th>스트레스</th>\n",
       "      <th>스트레스남학생</th>\n",
       "      <th>스트레스여학생</th>\n",
       "      <th>우울감경험률</th>\n",
       "      <th>우울남학생</th>\n",
       "      <th>우울여학생</th>\n",
       "      <th>자살생각율</th>\n",
       "      <th>자살남학생</th>\n",
       "      <th>자살여학생</th>\n",
       "    </tr>\n",
       "  </thead>\n",
       "  <tbody>\n",
       "    <tr>\n",
       "      <th>0</th>\n",
       "      <td>42.7</td>\n",
       "      <td>34.5</td>\n",
       "      <td>51.5</td>\n",
       "      <td>29.6</td>\n",
       "      <td>24.2</td>\n",
       "      <td>35.4</td>\n",
       "      <td>15.4</td>\n",
       "      <td>11.8</td>\n",
       "      <td>19.2</td>\n",
       "    </tr>\n",
       "    <tr>\n",
       "      <th>1</th>\n",
       "      <td>57.3</td>\n",
       "      <td>65.5</td>\n",
       "      <td>48.5</td>\n",
       "      <td>70.4</td>\n",
       "      <td>75.8</td>\n",
       "      <td>64.6</td>\n",
       "      <td>84.6</td>\n",
       "      <td>88.2</td>\n",
       "      <td>80.8</td>\n",
       "    </tr>\n",
       "  </tbody>\n",
       "</table>\n",
       "</div>"
      ],
      "text/plain": [
       "   스트레스  스트레스남학생  스트레스여학생  우울감경험률  우울남학생  우울여학생  자살생각율  자살남학생  자살여학생\n",
       "0  42.7     34.5     51.5    29.6   24.2   35.4   15.4   11.8   19.2\n",
       "1  57.3     65.5     48.5    70.4   75.8   64.6   84.6   88.2   80.8"
      ]
     },
     "execution_count": 113,
     "metadata": {},
     "output_type": "execute_result"
    }
   ],
   "source": [
    "raw_data"
   ]
  },
  {
   "cell_type": "code",
   "execution_count": 118,
   "metadata": {},
   "outputs": [
    {
     "data": {
      "text/html": [
       "<div>\n",
       "<style scoped>\n",
       "    .dataframe tbody tr th:only-of-type {\n",
       "        vertical-align: middle;\n",
       "    }\n",
       "\n",
       "    .dataframe tbody tr th {\n",
       "        vertical-align: top;\n",
       "    }\n",
       "\n",
       "    .dataframe thead th {\n",
       "        text-align: right;\n",
       "    }\n",
       "</style>\n",
       "<table border=\"1\" class=\"dataframe\">\n",
       "  <thead>\n",
       "    <tr style=\"text-align: right;\">\n",
       "      <th></th>\n",
       "      <th>스트레스</th>\n",
       "      <th>스트레스남학생</th>\n",
       "      <th>스트레스여학생</th>\n",
       "      <th>우울감경험률</th>\n",
       "      <th>우울남학생</th>\n",
       "      <th>우울여학생</th>\n",
       "      <th>자살생각율</th>\n",
       "      <th>자살남학생</th>\n",
       "      <th>자살여학생</th>\n",
       "      <th>응답</th>\n",
       "    </tr>\n",
       "    <tr>\n",
       "      <th>응답</th>\n",
       "      <th></th>\n",
       "      <th></th>\n",
       "      <th></th>\n",
       "      <th></th>\n",
       "      <th></th>\n",
       "      <th></th>\n",
       "      <th></th>\n",
       "      <th></th>\n",
       "      <th></th>\n",
       "      <th></th>\n",
       "    </tr>\n",
       "  </thead>\n",
       "  <tbody>\n",
       "    <tr>\n",
       "      <th>그렇다</th>\n",
       "      <td>42.7</td>\n",
       "      <td>34.5</td>\n",
       "      <td>51.5</td>\n",
       "      <td>29.6</td>\n",
       "      <td>24.2</td>\n",
       "      <td>35.4</td>\n",
       "      <td>15.4</td>\n",
       "      <td>11.8</td>\n",
       "      <td>19.2</td>\n",
       "      <td>그렇다</td>\n",
       "    </tr>\n",
       "    <tr>\n",
       "      <th>아니다</th>\n",
       "      <td>57.3</td>\n",
       "      <td>65.5</td>\n",
       "      <td>48.5</td>\n",
       "      <td>70.4</td>\n",
       "      <td>75.8</td>\n",
       "      <td>64.6</td>\n",
       "      <td>84.6</td>\n",
       "      <td>88.2</td>\n",
       "      <td>80.8</td>\n",
       "      <td>아니다</td>\n",
       "    </tr>\n",
       "  </tbody>\n",
       "</table>\n",
       "</div>"
      ],
      "text/plain": [
       "     스트레스  스트레스남학생  스트레스여학생  우울감경험률  우울남학생  우울여학생  자살생각율  자살남학생  자살여학생   응답\n",
       "응답                                                                         \n",
       "그렇다  42.7     34.5     51.5    29.6   24.2   35.4   15.4   11.8   19.2  그렇다\n",
       "아니다  57.3     65.5     48.5    70.4   75.8   64.6   84.6   88.2   80.8  아니다"
      ]
     },
     "execution_count": 118,
     "metadata": {},
     "output_type": "execute_result"
    }
   ],
   "source": [
    "raw_data[\"응답\"]=[\"그렇다\", \"아니다\"]\n",
    "raw_data"
   ]
  },
  {
   "cell_type": "code",
   "execution_count": 119,
   "metadata": {},
   "outputs": [],
   "source": [
    "raw_data.set_index(\"응답\", drop=True, inplace=True)"
   ]
  },
  {
   "cell_type": "code",
   "execution_count": 120,
   "metadata": {},
   "outputs": [
    {
     "data": {
      "text/html": [
       "<div>\n",
       "<style scoped>\n",
       "    .dataframe tbody tr th:only-of-type {\n",
       "        vertical-align: middle;\n",
       "    }\n",
       "\n",
       "    .dataframe tbody tr th {\n",
       "        vertical-align: top;\n",
       "    }\n",
       "\n",
       "    .dataframe thead th {\n",
       "        text-align: right;\n",
       "    }\n",
       "</style>\n",
       "<table border=\"1\" class=\"dataframe\">\n",
       "  <thead>\n",
       "    <tr style=\"text-align: right;\">\n",
       "      <th></th>\n",
       "      <th>스트레스</th>\n",
       "      <th>스트레스남학생</th>\n",
       "      <th>스트레스여학생</th>\n",
       "      <th>우울감경험률</th>\n",
       "      <th>우울남학생</th>\n",
       "      <th>우울여학생</th>\n",
       "      <th>자살생각율</th>\n",
       "      <th>자살남학생</th>\n",
       "      <th>자살여학생</th>\n",
       "    </tr>\n",
       "    <tr>\n",
       "      <th>응답</th>\n",
       "      <th></th>\n",
       "      <th></th>\n",
       "      <th></th>\n",
       "      <th></th>\n",
       "      <th></th>\n",
       "      <th></th>\n",
       "      <th></th>\n",
       "      <th></th>\n",
       "      <th></th>\n",
       "    </tr>\n",
       "  </thead>\n",
       "  <tbody>\n",
       "    <tr>\n",
       "      <th>그렇다</th>\n",
       "      <td>42.7</td>\n",
       "      <td>34.5</td>\n",
       "      <td>51.5</td>\n",
       "      <td>29.6</td>\n",
       "      <td>24.2</td>\n",
       "      <td>35.4</td>\n",
       "      <td>15.4</td>\n",
       "      <td>11.8</td>\n",
       "      <td>19.2</td>\n",
       "    </tr>\n",
       "    <tr>\n",
       "      <th>아니다</th>\n",
       "      <td>57.3</td>\n",
       "      <td>65.5</td>\n",
       "      <td>48.5</td>\n",
       "      <td>70.4</td>\n",
       "      <td>75.8</td>\n",
       "      <td>64.6</td>\n",
       "      <td>84.6</td>\n",
       "      <td>88.2</td>\n",
       "      <td>80.8</td>\n",
       "    </tr>\n",
       "  </tbody>\n",
       "</table>\n",
       "</div>"
      ],
      "text/plain": [
       "     스트레스  스트레스남학생  스트레스여학생  우울감경험률  우울남학생  우울여학생  자살생각율  자살남학생  자살여학생\n",
       "응답                                                                    \n",
       "그렇다  42.7     34.5     51.5    29.6   24.2   35.4   15.4   11.8   19.2\n",
       "아니다  57.3     65.5     48.5    70.4   75.8   64.6   84.6   88.2   80.8"
      ]
     },
     "execution_count": 120,
     "metadata": {},
     "output_type": "execute_result"
    }
   ],
   "source": [
    "raw_data"
   ]
  },
  {
   "cell_type": "code",
   "execution_count": 122,
   "metadata": {},
   "outputs": [
    {
     "name": "stdout",
     "output_type": "stream",
     "text": [
      "Collecting matplotlib\n",
      "  Downloading https://files.pythonhosted.org/packages/cc/eb/fd7a5f3c1484e8d2590ff94ca0b89941940a916394f719ab3bb7279e1970/matplotlib-3.1.1-cp36-cp36m-win_amd64.whl (9.1MB)\n",
      "Collecting kiwisolver>=1.0.1 (from matplotlib)\n",
      "  Downloading https://files.pythonhosted.org/packages/64/46/75ab48386cbd56065f5542360562be524ad599911455b6d95520cb118613/kiwisolver-1.1.0-cp36-none-win_amd64.whl (57kB)\n",
      "Requirement already satisfied: numpy>=1.11 in e:\\anaconda3\\envs\\study36\\lib\\site-packages (from matplotlib) (1.17.0)\n",
      "Collecting pyparsing!=2.0.4,!=2.1.2,!=2.1.6,>=2.0.1 (from matplotlib)\n",
      "  Using cached https://files.pythonhosted.org/packages/11/fa/0160cd525c62d7abd076a070ff02b2b94de589f1a9789774f17d7c54058e/pyparsing-2.4.2-py2.py3-none-any.whl\n",
      "Requirement already satisfied: python-dateutil>=2.1 in e:\\anaconda3\\envs\\study36\\lib\\site-packages (from matplotlib) (2.8.0)\n",
      "Collecting cycler>=0.10 (from matplotlib)\n",
      "  Using cached https://files.pythonhosted.org/packages/f7/d2/e07d3ebb2bd7af696440ce7e754c59dd546ffe1bbe732c8ab68b9c834e61/cycler-0.10.0-py2.py3-none-any.whl\n",
      "Requirement already satisfied: setuptools in e:\\anaconda3\\envs\\study36\\lib\\site-packages (from kiwisolver>=1.0.1->matplotlib) (41.0.1)\n",
      "Requirement already satisfied: six>=1.5 in e:\\anaconda3\\envs\\study36\\lib\\site-packages (from python-dateutil>=2.1->matplotlib) (1.12.0)\n",
      "Installing collected packages: kiwisolver, pyparsing, cycler, matplotlib\n",
      "Successfully installed cycler-0.10.0 kiwisolver-1.1.0 matplotlib-3.1.1 pyparsing-2.4.2\n"
     ]
    }
   ],
   "source": [
    "!pip install matplotlib"
   ]
  },
  {
   "cell_type": "code",
   "execution_count": null,
   "metadata": {},
   "outputs": [],
   "source": [
    "import matplotlib.pyplot as plt\n",
    "%matplotlib inline"
   ]
  },
  {
   "cell_type": "markdown",
   "metadata": {},
   "source": [
    "# 그래프 시각화할때 한글이 깨지지는 현상 방지"
   ]
  },
  {
   "cell_type": "code",
   "execution_count": 128,
   "metadata": {},
   "outputs": [],
   "source": [
    "from matplotlib import font_manager, rc\n",
    "plt.rcParams[\"axes.unicode_minus\"]=False\n",
    "\n",
    "#f_path =\"/Library/Fonts/AppleGothic.ttf\"\n",
    "\n",
    "f_path =\"c:/Windows/Fonts/malgun.ttf\"\n",
    "font_name = font_manager.FontProperties(fname=f_path).get_name()\n",
    "rc(\"font\", family=font_name)"
   ]
  },
  {
   "cell_type": "code",
   "execution_count": null,
   "metadata": {},
   "outputs": [],
   "source": [
    "raw_data.values"
   ]
  },
  {
   "cell_type": "code",
   "execution_count": 125,
   "metadata": {},
   "outputs": [
    {
     "data": {
      "text/html": [
       "<div>\n",
       "<style scoped>\n",
       "    .dataframe tbody tr th:only-of-type {\n",
       "        vertical-align: middle;\n",
       "    }\n",
       "\n",
       "    .dataframe tbody tr th {\n",
       "        vertical-align: top;\n",
       "    }\n",
       "\n",
       "    .dataframe thead th {\n",
       "        text-align: right;\n",
       "    }\n",
       "</style>\n",
       "<table border=\"1\" class=\"dataframe\">\n",
       "  <thead>\n",
       "    <tr style=\"text-align: right;\">\n",
       "      <th></th>\n",
       "      <th>스트레스</th>\n",
       "      <th>스트레스남학생</th>\n",
       "      <th>스트레스여학생</th>\n",
       "      <th>우울감경험률</th>\n",
       "      <th>우울남학생</th>\n",
       "      <th>우울여학생</th>\n",
       "      <th>자살생각율</th>\n",
       "      <th>자살남학생</th>\n",
       "      <th>자살여학생</th>\n",
       "    </tr>\n",
       "  </thead>\n",
       "  <tbody>\n",
       "    <tr>\n",
       "      <th>count</th>\n",
       "      <td>2.000000</td>\n",
       "      <td>2.00000</td>\n",
       "      <td>2.00000</td>\n",
       "      <td>2.000000</td>\n",
       "      <td>2.00000</td>\n",
       "      <td>2.000000</td>\n",
       "      <td>2.000000</td>\n",
       "      <td>2.000000</td>\n",
       "      <td>2.000000</td>\n",
       "    </tr>\n",
       "    <tr>\n",
       "      <th>mean</th>\n",
       "      <td>50.000000</td>\n",
       "      <td>50.00000</td>\n",
       "      <td>50.00000</td>\n",
       "      <td>50.000000</td>\n",
       "      <td>50.00000</td>\n",
       "      <td>50.000000</td>\n",
       "      <td>50.000000</td>\n",
       "      <td>50.000000</td>\n",
       "      <td>50.000000</td>\n",
       "    </tr>\n",
       "    <tr>\n",
       "      <th>std</th>\n",
       "      <td>10.323759</td>\n",
       "      <td>21.92031</td>\n",
       "      <td>2.12132</td>\n",
       "      <td>28.849957</td>\n",
       "      <td>36.48671</td>\n",
       "      <td>20.647518</td>\n",
       "      <td>48.931789</td>\n",
       "      <td>54.022958</td>\n",
       "      <td>43.557778</td>\n",
       "    </tr>\n",
       "    <tr>\n",
       "      <th>min</th>\n",
       "      <td>42.700000</td>\n",
       "      <td>34.50000</td>\n",
       "      <td>48.50000</td>\n",
       "      <td>29.600000</td>\n",
       "      <td>24.20000</td>\n",
       "      <td>35.400000</td>\n",
       "      <td>15.400000</td>\n",
       "      <td>11.800000</td>\n",
       "      <td>19.200000</td>\n",
       "    </tr>\n",
       "    <tr>\n",
       "      <th>25%</th>\n",
       "      <td>46.350000</td>\n",
       "      <td>42.25000</td>\n",
       "      <td>49.25000</td>\n",
       "      <td>39.800000</td>\n",
       "      <td>37.10000</td>\n",
       "      <td>42.700000</td>\n",
       "      <td>32.700000</td>\n",
       "      <td>30.900000</td>\n",
       "      <td>34.600000</td>\n",
       "    </tr>\n",
       "    <tr>\n",
       "      <th>50%</th>\n",
       "      <td>50.000000</td>\n",
       "      <td>50.00000</td>\n",
       "      <td>50.00000</td>\n",
       "      <td>50.000000</td>\n",
       "      <td>50.00000</td>\n",
       "      <td>50.000000</td>\n",
       "      <td>50.000000</td>\n",
       "      <td>50.000000</td>\n",
       "      <td>50.000000</td>\n",
       "    </tr>\n",
       "    <tr>\n",
       "      <th>75%</th>\n",
       "      <td>53.650000</td>\n",
       "      <td>57.75000</td>\n",
       "      <td>50.75000</td>\n",
       "      <td>60.200000</td>\n",
       "      <td>62.90000</td>\n",
       "      <td>57.300000</td>\n",
       "      <td>67.300000</td>\n",
       "      <td>69.100000</td>\n",
       "      <td>65.400000</td>\n",
       "    </tr>\n",
       "    <tr>\n",
       "      <th>max</th>\n",
       "      <td>57.300000</td>\n",
       "      <td>65.50000</td>\n",
       "      <td>51.50000</td>\n",
       "      <td>70.400000</td>\n",
       "      <td>75.80000</td>\n",
       "      <td>64.600000</td>\n",
       "      <td>84.600000</td>\n",
       "      <td>88.200000</td>\n",
       "      <td>80.800000</td>\n",
       "    </tr>\n",
       "  </tbody>\n",
       "</table>\n",
       "</div>"
      ],
      "text/plain": [
       "            스트레스   스트레스남학생   스트레스여학생     우울감경험률     우울남학생      우울여학생  \\\n",
       "count   2.000000   2.00000   2.00000   2.000000   2.00000   2.000000   \n",
       "mean   50.000000  50.00000  50.00000  50.000000  50.00000  50.000000   \n",
       "std    10.323759  21.92031   2.12132  28.849957  36.48671  20.647518   \n",
       "min    42.700000  34.50000  48.50000  29.600000  24.20000  35.400000   \n",
       "25%    46.350000  42.25000  49.25000  39.800000  37.10000  42.700000   \n",
       "50%    50.000000  50.00000  50.00000  50.000000  50.00000  50.000000   \n",
       "75%    53.650000  57.75000  50.75000  60.200000  62.90000  57.300000   \n",
       "max    57.300000  65.50000  51.50000  70.400000  75.80000  64.600000   \n",
       "\n",
       "           자살생각율      자살남학생      자살여학생  \n",
       "count   2.000000   2.000000   2.000000  \n",
       "mean   50.000000  50.000000  50.000000  \n",
       "std    48.931789  54.022958  43.557778  \n",
       "min    15.400000  11.800000  19.200000  \n",
       "25%    32.700000  30.900000  34.600000  \n",
       "50%    50.000000  50.000000  50.000000  \n",
       "75%    67.300000  69.100000  65.400000  \n",
       "max    84.600000  88.200000  80.800000  "
      ]
     },
     "execution_count": 125,
     "metadata": {},
     "output_type": "execute_result"
    }
   ],
   "source": [
    "raw_data.describe()"
   ]
  },
  {
   "cell_type": "code",
   "execution_count": 126,
   "metadata": {},
   "outputs": [
    {
     "data": {
      "text/html": [
       "<div>\n",
       "<style scoped>\n",
       "    .dataframe tbody tr th:only-of-type {\n",
       "        vertical-align: middle;\n",
       "    }\n",
       "\n",
       "    .dataframe tbody tr th {\n",
       "        vertical-align: top;\n",
       "    }\n",
       "\n",
       "    .dataframe thead th {\n",
       "        text-align: right;\n",
       "    }\n",
       "</style>\n",
       "<table border=\"1\" class=\"dataframe\">\n",
       "  <thead>\n",
       "    <tr style=\"text-align: right;\">\n",
       "      <th></th>\n",
       "      <th>스트레스</th>\n",
       "      <th>스트레스남학생</th>\n",
       "      <th>스트레스여학생</th>\n",
       "      <th>우울감경험률</th>\n",
       "      <th>우울남학생</th>\n",
       "      <th>우울여학생</th>\n",
       "      <th>자살생각율</th>\n",
       "      <th>자살남학생</th>\n",
       "      <th>자살여학생</th>\n",
       "    </tr>\n",
       "    <tr>\n",
       "      <th>응답</th>\n",
       "      <th></th>\n",
       "      <th></th>\n",
       "      <th></th>\n",
       "      <th></th>\n",
       "      <th></th>\n",
       "      <th></th>\n",
       "      <th></th>\n",
       "      <th></th>\n",
       "      <th></th>\n",
       "    </tr>\n",
       "  </thead>\n",
       "  <tbody>\n",
       "    <tr>\n",
       "      <th>그렇다</th>\n",
       "      <td>42.7</td>\n",
       "      <td>34.5</td>\n",
       "      <td>51.5</td>\n",
       "      <td>29.6</td>\n",
       "      <td>24.2</td>\n",
       "      <td>35.4</td>\n",
       "      <td>15.4</td>\n",
       "      <td>11.8</td>\n",
       "      <td>19.2</td>\n",
       "    </tr>\n",
       "    <tr>\n",
       "      <th>아니다</th>\n",
       "      <td>57.3</td>\n",
       "      <td>65.5</td>\n",
       "      <td>48.5</td>\n",
       "      <td>70.4</td>\n",
       "      <td>75.8</td>\n",
       "      <td>64.6</td>\n",
       "      <td>84.6</td>\n",
       "      <td>88.2</td>\n",
       "      <td>80.8</td>\n",
       "    </tr>\n",
       "  </tbody>\n",
       "</table>\n",
       "</div>"
      ],
      "text/plain": [
       "     스트레스  스트레스남학생  스트레스여학생  우울감경험률  우울남학생  우울여학생  자살생각율  자살남학생  자살여학생\n",
       "응답                                                                    \n",
       "그렇다  42.7     34.5     51.5    29.6   24.2   35.4   15.4   11.8   19.2\n",
       "아니다  57.3     65.5     48.5    70.4   75.8   64.6   84.6   88.2   80.8"
      ]
     },
     "execution_count": 126,
     "metadata": {},
     "output_type": "execute_result"
    }
   ],
   "source": [
    "raw_data"
   ]
  },
  {
   "cell_type": "code",
   "execution_count": 129,
   "metadata": {},
   "outputs": [
    {
     "data": {
      "text/plain": [
       "<matplotlib.axes._subplots.AxesSubplot at 0x24042c18>"
      ]
     },
     "execution_count": 129,
     "metadata": {},
     "output_type": "execute_result"
    },
    {
     "data": {
      "image/png": "[encoded data removed]",
      "text/plain": [
       "<Figure size 432x288 with 1 Axes>"
      ]
     },
     "metadata": {},
     "output_type": "display_data"
    }
   ],
   "source": [
    "raw_data[\"스트레스\"].plot.pie()"
   ]
  },
  {
   "cell_type": "code",
   "execution_count": 136,
   "metadata": {},
   "outputs": [
    {
     "data": {
      "text/plain": [
       "<matplotlib.axes._subplots.AxesSubplot at 0x25350a20>"
      ]
     },
     "execution_count": 136,
     "metadata": {},
     "output_type": "execute_result"
    },
    {
     "data": {
      "image/png": "[encoded data removed]",
      "text/plain": [
       "<Figure size 432x288 with 1 Axes>"
      ]
     },
     "metadata": {},
     "output_type": "display_data"
    }
   ],
   "source": [
    "raw_data[\"스트레스\"].plot.pie(explode=[0,0.05],autopct=\"%1.1f%%\")"
   ]
  },
  {
   "cell_type": "code",
   "execution_count": 143,
   "metadata": {},
   "outputs": [
    {
     "data": {
      "text/plain": [
       "Index(['스트레스', '스트레스남학생', '스트레스여학생', '우울감경험률', '우울남학생', '우울여학생', '자살생각율',\n",
       "       '자살남학생', '자살여학생'],\n",
       "      dtype='object')"
      ]
     },
     "execution_count": 143,
     "metadata": {},
     "output_type": "execute_result"
    }
   ],
   "source": [
    "raw_data.columns"
   ]
  },
  {
   "cell_type": "code",
   "execution_count": 151,
   "metadata": {},
   "outputs": [
    {
     "data": {
      "image/png": "[encoded data removed]",
      "text/plain": [
       "<Figure size 1152x576 with 3 Axes>"
      ]
     },
     "metadata": {},
     "output_type": "display_data"
    }
   ],
   "source": [
    "f, ax = plt.subplots(1,3, figsize=(16,8))\n",
    "\n",
    "raw_data[\"스트레스\"].plot.pie(explode=[0,0.05], ax = ax[0],autopct=\"%1.1f%%\")\n",
    "ax[0].set_title(\"스트레스를 받은적이 있다 \")\n",
    "ax[0].set_xlabel(\"전체학생\")\n",
    "raw_data[\"스트레스남학생\"].plot.pie(explode=[0,0.05], ax = ax[1],autopct=\"%1.1f%%\")\n",
    "ax[1].set_title(\"스트레스를 받은적 있다\")\n",
    "ax[1].set_xlabel(\"남학생\")\n",
    "raw_data[\"스트레스여학생\"].plot.pie(explode=[0,0.05], ax = ax[2],autopct=\"%1.1f%%\")\n",
    "ax[2].set_title(\"스트레스를 받은적 있다\")\n",
    "ax[2].set_xlabel(\"여학생\")\n",
    "\n",
    "plt.show()"
   ]
  },
  {
   "cell_type": "code",
   "execution_count": 154,
   "metadata": {},
   "outputs": [
    {
     "data": {
      "image/png": "[encoded data removed]",
      "text/plain": [
       "<Figure size 1152x576 with 3 Axes>"
      ]
     },
     "metadata": {},
     "output_type": "display_data"
    }
   ],
   "source": [
    "f, ax = plt.subplots(1,3, figsize=(16,8))\n",
    "\n",
    "raw_data[\"우울감경험률\"].plot.pie(explode=[0,0.05], ax = ax[0],autopct=\"%1.1f%%\")\n",
    "ax[0].set_title(\"우울감을 느낀적이 있다 \")\n",
    "ax[0].set_xlabel(\"전체학생\")\n",
    "raw_data[\"우울남학생\"].plot.pie(explode=[0,0.05], ax = ax[1],autopct=\"%1.1f%%\")\n",
    "ax[1].set_title(\"우울감을 느낀적이 있다\")\n",
    "ax[1].set_xlabel(\"남학생\")\n",
    "raw_data[\"우울여학생\"].plot.pie(explode=[0,0.05], ax = ax[2],autopct=\"%1.1f%%\")\n",
    "ax[2].set_title(\"우울감을 느낀적이 있다\")\n",
    "ax[2].set_xlabel(\"여학생\")\n",
    "\n",
    "plt.show()"
   ]
  },
  {
   "cell_type": "code",
   "execution_count": 155,
   "metadata": {},
   "outputs": [
    {
     "data": {
      "image/png": "[encoded data removed]",
      "text/plain": [
       "<Figure size 1152x576 with 3 Axes>"
      ]
     },
     "metadata": {},
     "output_type": "display_data"
    }
   ],
   "source": [
    "f, ax = plt.subplots(1,3, figsize=(16,8))\n",
    "\n",
    "raw_data[\"자살생각율\"].plot.pie(explode=[0,0.05], ax = ax[0],autopct=\"%1.1f%%\")\n",
    "ax[0].set_title(\"자살을 생각한 적이 있다 \")\n",
    "ax[0].set_xlabel(\"전체학생\")\n",
    "raw_data[\"자살남학생\"].plot.pie(explode=[0,0.05], ax = ax[1],autopct=\"%1.1f%%\")\n",
    "ax[1].set_title(\"자살을 생각한 적이 있다\")\n",
    "ax[1].set_xlabel(\"남학생\")\n",
    "raw_data[\"자살여학생\"].plot.pie(explode=[0,0.05], ax = ax[2],autopct=\"%1.1f%%\")\n",
    "ax[2].set_title(\"자살을 생각한 적이 있다\")\n",
    "ax[2].set_xlabel(\"여학생\")\n",
    "\n",
    "plt.show()"
   ]
  },
  {
   "cell_type": "code",
   "execution_count": null,
   "metadata": {},
   "outputs": [],
   "source": []
  },
  {
   "cell_type": "code",
   "execution_count": null,
   "metadata": {},
   "outputs": [],
   "source": []
  },
  {
   "cell_type": "code",
   "execution_count": null,
   "metadata": {},
   "outputs": [],
   "source": []
  },
  {
   "cell_type": "code",
   "execution_count": null,
   "metadata": {},
   "outputs": [],
   "source": []
  },
  {
   "cell_type": "code",
   "execution_count": null,
   "metadata": {},
   "outputs": [],
   "source": []
  },
  {
   "cell_type": "code",
   "execution_count": null,
   "metadata": {},
   "outputs": [],
   "source": []
  },
  {
   "cell_type": "code",
   "execution_count": null,
   "metadata": {},
   "outputs": [],
   "source": []
  },
  {
   "cell_type": "code",
   "execution_count": null,
   "metadata": {},
   "outputs": [],
   "source": []
  }
 ],
 "metadata": {
  "kernelspec": {
   "display_name": "Python 3",
   "language": "python",
   "name": "python3"
  },
  "language_info": {
   "codemirror_mode": {
    "name": "ipython",
    "version": 3
   },
   "file_extension": ".py",
   "mimetype": "text/x-python",
   "name": "python",
   "nbconvert_exporter": "python",
   "pygments_lexer": "ipython3",
   "version": "3.6.9"
  }
 },
 "nbformat": 4,
 "nbformat_minor": 2
}
